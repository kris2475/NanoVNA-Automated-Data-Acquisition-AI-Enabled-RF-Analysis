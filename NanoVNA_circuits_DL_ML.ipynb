{
  "nbformat": 4,
  "nbformat_minor": 0,
  "metadata": {
    "colab": {
      "provenance": []
    },
    "kernelspec": {
      "name": "python3",
      "display_name": "Python 3"
    },
    "language_info": {
      "name": "python"
    }
  },
  "cells": [
    {
      "cell_type": "code",
      "metadata": {
        "colab": {
          "base_uri": "https://localhost:8080/",
          "height": 583
        },
        "id": "f1b7217a",
        "outputId": "7650a32d-1863-4566-8ccb-197287b1eedc"
      },
      "source": [
        "# Data Loading and Preprocessing for RF Circuit Analysis\n",
        "#\n",
        "# This script loads NanoVNA sweep data from individual CSV files, preprocesses it,\n",
        "# and combines it into a single pandas DataFrame suitable for Machine Learning (ML)\n",
        "# and Deep Learning (DL) models.\n",
        "#\n",
        "# The preprocessing steps include:\n",
        "# - Identifying all individual sweep CSV files within a specified directory.\n",
        "# - Loading each CSV file into a pandas DataFrame.\n",
        "# - **Generating a correct frequency axis (1 MHz to 900 MHz) based on the expected sweep parameters**,\n",
        "#   replacing the potentially incorrectly scaled frequency data from the CSVs.\n",
        "# - Extracting S11 (real and imaginary), and S21 (real and imaginary) data.\n",
        "# - Handling cases where S21 data is not present (for one-port circuits) by\n",
        "#   imputing with 0.0 for both real and imaginary parts. This maintains a consistent\n",
        "#   feature set across all samples.\n",
        "# - Storing the extracted data and the corresponding circuit type for each sweep.\n",
        "# - Combining the data from all individual sweeps into a single pandas DataFrame,\n",
        "#   where each row represents a single sweep and includes arrays for the corrected frequency and\n",
        "#   S-parameters, along with the circuit type label.\n",
        "#\n",
        "# The output DataFrame is an intermediate representation that can be further processed\n",
        "# (e.g., interpolation to a common frequency axis if needed, reshaping) before being used\n",
        "# for model training.\n",
        "\n",
        "import pandas as pd\n",
        "import glob\n",
        "import os\n",
        "import cmath  # Import cmath for complex number operations\n",
        "import numpy as np  # Import numpy for handling NaN values and arrays and creating frequency axis\n",
        "import re  # Import re for regular expression operations\n",
        "\n",
        "# Define the directory where the extracted sweep CSV files are located.\n",
        "# This assumes the sweeps.zip file was extracted to '/content/sweeps/sweeps/'\n",
        "# based on the previous successful execution.\n",
        "extract_dir = '/content/sweeps/sweeps/'\n",
        "file_pattern = os.path.join(extract_dir, '*.csv')\n",
        "\n",
        "# 1. Identify relevant files\n",
        "# Use glob to find all CSV files matching the pattern in the extracted directory.\n",
        "extracted_files = glob.glob(file_pattern)\n",
        "print(f\"Identified {len(extracted_files)} individual sweep CSV files.\")\n",
        "\n",
        "# Initialize lists to store the data and circuit types from each sweep.\n",
        "all_sweeps_data = []\n",
        "all_circuit_types = []\n",
        "\n",
        "# Define the correct frequency axis parameters based on expected sweep configuration\n",
        "expected_min_freq_mhz = 1  # 1 MHz\n",
        "expected_max_freq_mhz = 900 # 900 MHz\n",
        "expected_num_points = 101 # 101 data points per sweep\n",
        "\n",
        "# Generate the correct frequency axis in Hz\n",
        "correct_frequency_hz = np.linspace(expected_min_freq_mhz * 1e6, expected_max_freq_mhz * 1e6, expected_num_points)\n",
        "\n",
        "\n",
        "# 2. Load and preprocess data (per sweep)\n",
        "# Iterate through each extracted file to load and process its data.\n",
        "for file_path in extracted_files:\n",
        "    # Extract circuit type from filename.\n",
        "    # We assume the filename format is like 'Circuit_X_CircuitName_Sweep_Y.csv'.\n",
        "    # A regex is used to extract the 'CircuitName' part.\n",
        "    filename = os.path.basename(file_path)\n",
        "    match = re.search(r'Circuit_\\d+_(.+?)_Sweep_\\d+\\.csv', filename, re.IGNORECASE)\n",
        "    if match:\n",
        "        # Extract the matched group and replace underscores with spaces for readability.\n",
        "        circuit_type = match.group(1).replace('_', ' ')\n",
        "    else:\n",
        "        # If the filename format is unexpected, default the circuit type to 'Unknown'.\n",
        "        circuit_type = 'Unknown'\n",
        "\n",
        "    # Load the CSV file into a pandas DataFrame.\n",
        "    df = pd.read_csv(file_path)\n",
        "\n",
        "    # **Use the generated correct_frequency_hz instead of the frequency data from the CSV.**\n",
        "    # We still verify the number of points matches the expected number.\n",
        "    if len(df) != expected_num_points:\n",
        "        print(f\"Warning: Number of data points in {filename} ({len(df)}) does not match expected ({expected_num_points}). Skipping this file.\")\n",
        "        continue # Skip this file if the number of points is unexpected\n",
        "\n",
        "\n",
        "    # Extract S11, and S21 data using the correct column names\n",
        "    # identified from previous inspection ('S11_real', 'S11_imag').\n",
        "    s11_real = df['S11_real'].values\n",
        "    s11_imaginary = df['S11_imag'].values\n",
        "\n",
        "    # Create a dictionary to store the extracted data for the current sweep.\n",
        "    # Use the correct_frequency_hz for the frequency data.\n",
        "    sweep_data = {\n",
        "        'frequency_hz': correct_frequency_hz, # Use the generated frequency axis\n",
        "        's11_real': s11_real,\n",
        "        's11_imaginary': s11_imaginary\n",
        "    }\n",
        "\n",
        "    # Check if S21 data exists in the DataFrame before extracting.\n",
        "    # Circuits with two ports will have 'S21_real' and 'S21_imag' columns.\n",
        "    if 'S21_real' in df.columns and 'S21_imag' in df.columns:\n",
        "        s21_real = df['S21_real'].values\n",
        "        s21_imaginary = df['S21_imag'].values\n",
        "        # Add S21 data to the sweep_data dictionary if present.\n",
        "        sweep_data['s21_real'] = s21_real\n",
        "        sweep_data['s21_imaginary'] = s21_imaginary\n",
        "\n",
        "    # Append the extracted data dictionary and the circuit type to their respective lists.\n",
        "    all_sweeps_data.append(sweep_data)\n",
        "    all_circuit_types.append(circuit_type)\n",
        "\n",
        "print(f\"Successfully loaded data from {len(all_sweeps_data)} individual sweeps.\")\n",
        "\n",
        "# 3. Combine data into a DataFrame and handle missing S21\n",
        "# Convert the list of dictionaries (each representing a sweep) into a pandas DataFrame.\n",
        "# Each row in this DataFrame will correspond to a single sweep.\n",
        "# The columns will contain arrays of data (frequency, S11, S21) and the circuit type.\n",
        "data = {\n",
        "    # Use the corrected frequency data column name\n",
        "    'frequency_hz': [sweep['frequency_hz'] for sweep in all_sweeps_data],\n",
        "    's11_real': [sweep['s11_real'] for sweep in all_sweeps_data],\n",
        "    's11_imaginary': [sweep['s11_imaginary'] for sweep in all_sweeps_data],\n",
        "    # Use .get with a default value of an array of NaNs to handle sweeps without S21 data.\n",
        "    # This ensures that the 's21_real' and 's21_imaginary' columns are created for all sweeps,\n",
        "    # with NaNs where the data was missing in the original file.\n",
        "    's21_real': [sweep.get('s21_real', np.full(expected_num_points, np.nan)) for sweep in all_sweeps_data],\n",
        "    's21_imaginary': [sweep.get('s21_imaginary', np.full(expected_num_points, np.nan)) for sweep in all_sweeps_data],\n",
        "    'circuit_type': all_circuit_types\n",
        "}\n",
        "\n",
        "# Create the DataFrame from the compiled data.\n",
        "sweeps_df = pd.DataFrame(data)\n",
        "\n",
        "# Handle NaN values in S21 columns by setting them to 0.\n",
        "# This is a crucial step for maintaining a consistent data structure for ML/DL models.\n",
        "# For circuits with only one port, the absence of S21 data is represented by NaNs,\n",
        "# which are then filled with 0.0. This is a valid approach as zero transmission/reflection\n",
        "# is physically meaningful for a non-existent port.\n",
        "s21_cols = ['s21_real', 's21_imaginary']\n",
        "for col in s21_cols:\n",
        "    if col in sweeps_df.columns:\n",
        "        # Use np.nan_to_num to replace NaN with 0.0 and infinities with large finite numbers\n",
        "        # (though infinities are less likely here after initial loading).\n",
        "        sweeps_df[col] = sweeps_df[col].apply(lambda x: np.nan_to_num(x, nan=0.0))\n",
        "        print(f\"Filled NaN values in '{col}' with 0.\")\n",
        "    else:\n",
        "        # This case should not occur if S11 data is always present, but included for robustness.\n",
        "        print(f\"Column '{col}' not found in combined_df.\")\n",
        "\n",
        "\n",
        "print(\"\\nCombined data from individual sweeps into a DataFrame.\")\n",
        "# Display the head of the DataFrame to show the structure and content.\n",
        "display(sweeps_df.head())\n",
        "# Display info about the DataFrame, including column data types and non-null counts.\n",
        "display(sweeps_df.info())"
      ],
      "execution_count": 38,
      "outputs": [
        {
          "output_type": "stream",
          "name": "stdout",
          "text": [
            "Identified 1800 individual sweep CSV files.\n",
            "Successfully loaded data from 1800 individual sweeps.\n",
            "Filled NaN values in 's21_real' with 0.\n",
            "Filled NaN values in 's21_imaginary' with 0.\n",
            "\n",
            "Combined data from individual sweeps into a DataFrame.\n"
          ]
        },
        {
          "output_type": "display_data",
          "data": {
            "text/plain": [
              "                                        frequency_hz  \\\n",
              "0  [1000000.0, 9990000.0, 18980000.0, 27970000.0,...   \n",
              "1  [1000000.0, 9990000.0, 18980000.0, 27970000.0,...   \n",
              "2  [1000000.0, 9990000.0, 18980000.0, 27970000.0,...   \n",
              "3  [1000000.0, 9990000.0, 18980000.0, 27970000.0,...   \n",
              "4  [1000000.0, 9990000.0, 18980000.0, 27970000.0,...   \n",
              "\n",
              "                                            s11_real  \\\n",
              "0  [0.00084, 4.333333333333333e-05, -0.0002109999...   \n",
              "1  [-0.0008933333333333, 0.00013, 0.0001349999999...   \n",
              "2  [4.866666666666669e-05, -0.000357, 2.533333333...   \n",
              "3  [0.000835, 0.0005126666666666, 0.000402, 0.000...   \n",
              "4  [0.001405, 0.0005996666666666, -0.000367333333...   \n",
              "\n",
              "                                       s11_imaginary  \\\n",
              "0  [-0.0007459999999999, 0.0006893333333333, 0.00...   \n",
              "1  [-0.0005133333333333, 0.0002856666666666, 0.00...   \n",
              "2  [-0.0002283333333333, 0.0009826666666666, 0.00...   \n",
              "3  [-0.0003806666666666, 0.0001733333333333, 0.00...   \n",
              "4  [0.0047466666666666, 0.0006803333333333, 0.000...   \n",
              "\n",
              "                                            s21_real  \\\n",
              "0  [0.0, 0.0, 0.0, 0.0, 0.0, 0.0, 0.0, 0.0, 0.0, ...   \n",
              "1  [1000000.0, 9990000.0, 18980000.0, 27970000.0,...   \n",
              "2  [0.0, 0.0, 0.0, 0.0, 0.0, 0.0, 0.0, 0.0, 0.0, ...   \n",
              "3  [0.0, 0.0, 0.0, 0.0, 0.0, 0.0, 0.0, 0.0, 0.0, ...   \n",
              "4  [1000000.0, 9990000.0, 18980000.0, 27970000.0,...   \n",
              "\n",
              "                                       s21_imaginary  \\\n",
              "0  [0.0, 0.0, 0.0, 0.0, 0.0, 0.0, 0.0, 0.0, 0.0, ...   \n",
              "1  [0.0, 0.0, 0.0, 0.0, 0.0, 0.0, 0.0, 0.0, 0.0, ...   \n",
              "2  [0.0, 0.0, 0.0, 0.0, 0.0, 0.0, 0.0, 0.0, 0.0, ...   \n",
              "3  [0.0, 0.0, 0.0, 0.0, 0.0, 0.0, 0.0, 0.0, 0.0, ...   \n",
              "4  [0.0, 0.0, 0.0, 0.0, 0.0, 0.0, 0.0, 0.0, 0.0, ...   \n",
              "\n",
              "                   circuit_type  \n",
              "0             LC Series Circuit  \n",
              "1       500MHz High Pass Filter  \n",
              "2                     Capacitor  \n",
              "3                 Short Circuit  \n",
              "4  10 7MHz Ceramic Notch Filter  "
            ],
            "text/html": [
              "\n",
              "  <div id=\"df-1634c663-0dc1-46d0-bdf3-3acd940a3acb\" class=\"colab-df-container\">\n",
              "    <div>\n",
              "<style scoped>\n",
              "    .dataframe tbody tr th:only-of-type {\n",
              "        vertical-align: middle;\n",
              "    }\n",
              "\n",
              "    .dataframe tbody tr th {\n",
              "        vertical-align: top;\n",
              "    }\n",
              "\n",
              "    .dataframe thead th {\n",
              "        text-align: right;\n",
              "    }\n",
              "</style>\n",
              "<table border=\"1\" class=\"dataframe\">\n",
              "  <thead>\n",
              "    <tr style=\"text-align: right;\">\n",
              "      <th></th>\n",
              "      <th>frequency_hz</th>\n",
              "      <th>s11_real</th>\n",
              "      <th>s11_imaginary</th>\n",
              "      <th>s21_real</th>\n",
              "      <th>s21_imaginary</th>\n",
              "      <th>circuit_type</th>\n",
              "    </tr>\n",
              "  </thead>\n",
              "  <tbody>\n",
              "    <tr>\n",
              "      <th>0</th>\n",
              "      <td>[1000000.0, 9990000.0, 18980000.0, 27970000.0,...</td>\n",
              "      <td>[0.00084, 4.333333333333333e-05, -0.0002109999...</td>\n",
              "      <td>[-0.0007459999999999, 0.0006893333333333, 0.00...</td>\n",
              "      <td>[0.0, 0.0, 0.0, 0.0, 0.0, 0.0, 0.0, 0.0, 0.0, ...</td>\n",
              "      <td>[0.0, 0.0, 0.0, 0.0, 0.0, 0.0, 0.0, 0.0, 0.0, ...</td>\n",
              "      <td>LC Series Circuit</td>\n",
              "    </tr>\n",
              "    <tr>\n",
              "      <th>1</th>\n",
              "      <td>[1000000.0, 9990000.0, 18980000.0, 27970000.0,...</td>\n",
              "      <td>[-0.0008933333333333, 0.00013, 0.0001349999999...</td>\n",
              "      <td>[-0.0005133333333333, 0.0002856666666666, 0.00...</td>\n",
              "      <td>[1000000.0, 9990000.0, 18980000.0, 27970000.0,...</td>\n",
              "      <td>[0.0, 0.0, 0.0, 0.0, 0.0, 0.0, 0.0, 0.0, 0.0, ...</td>\n",
              "      <td>500MHz High Pass Filter</td>\n",
              "    </tr>\n",
              "    <tr>\n",
              "      <th>2</th>\n",
              "      <td>[1000000.0, 9990000.0, 18980000.0, 27970000.0,...</td>\n",
              "      <td>[4.866666666666669e-05, -0.000357, 2.533333333...</td>\n",
              "      <td>[-0.0002283333333333, 0.0009826666666666, 0.00...</td>\n",
              "      <td>[0.0, 0.0, 0.0, 0.0, 0.0, 0.0, 0.0, 0.0, 0.0, ...</td>\n",
              "      <td>[0.0, 0.0, 0.0, 0.0, 0.0, 0.0, 0.0, 0.0, 0.0, ...</td>\n",
              "      <td>Capacitor</td>\n",
              "    </tr>\n",
              "    <tr>\n",
              "      <th>3</th>\n",
              "      <td>[1000000.0, 9990000.0, 18980000.0, 27970000.0,...</td>\n",
              "      <td>[0.000835, 0.0005126666666666, 0.000402, 0.000...</td>\n",
              "      <td>[-0.0003806666666666, 0.0001733333333333, 0.00...</td>\n",
              "      <td>[0.0, 0.0, 0.0, 0.0, 0.0, 0.0, 0.0, 0.0, 0.0, ...</td>\n",
              "      <td>[0.0, 0.0, 0.0, 0.0, 0.0, 0.0, 0.0, 0.0, 0.0, ...</td>\n",
              "      <td>Short Circuit</td>\n",
              "    </tr>\n",
              "    <tr>\n",
              "      <th>4</th>\n",
              "      <td>[1000000.0, 9990000.0, 18980000.0, 27970000.0,...</td>\n",
              "      <td>[0.001405, 0.0005996666666666, -0.000367333333...</td>\n",
              "      <td>[0.0047466666666666, 0.0006803333333333, 0.000...</td>\n",
              "      <td>[1000000.0, 9990000.0, 18980000.0, 27970000.0,...</td>\n",
              "      <td>[0.0, 0.0, 0.0, 0.0, 0.0, 0.0, 0.0, 0.0, 0.0, ...</td>\n",
              "      <td>10 7MHz Ceramic Notch Filter</td>\n",
              "    </tr>\n",
              "  </tbody>\n",
              "</table>\n",
              "</div>\n",
              "    <div class=\"colab-df-buttons\">\n",
              "\n",
              "  <div class=\"colab-df-container\">\n",
              "    <button class=\"colab-df-convert\" onclick=\"convertToInteractive('df-1634c663-0dc1-46d0-bdf3-3acd940a3acb')\"\n",
              "            title=\"Convert this dataframe to an interactive table.\"\n",
              "            style=\"display:none;\">\n",
              "\n",
              "  <svg xmlns=\"http://www.w3.org/2000/svg\" height=\"24px\" viewBox=\"0 -960 960 960\">\n",
              "    <path d=\"M120-120v-720h720v720H120Zm60-500h600v-160H180v160Zm220 220h160v-160H400v160Zm0 220h160v-160H400v160ZM180-400h160v-160H180v160Zm440 0h160v-160H620v160ZM180-180h160v-160H180v160Zm440 0h160v-160H620v160Z\"/>\n",
              "  </svg>\n",
              "    </button>\n",
              "\n",
              "  <style>\n",
              "    .colab-df-container {\n",
              "      display:flex;\n",
              "      gap: 12px;\n",
              "    }\n",
              "\n",
              "    .colab-df-convert {\n",
              "      background-color: #E8F0FE;\n",
              "      border: none;\n",
              "      border-radius: 50%;\n",
              "      cursor: pointer;\n",
              "      display: none;\n",
              "      fill: #1967D2;\n",
              "      height: 32px;\n",
              "      padding: 0 0 0 0;\n",
              "      width: 32px;\n",
              "    }\n",
              "\n",
              "    .colab-df-convert:hover {\n",
              "      background-color: #E2EBFA;\n",
              "      box-shadow: 0px 1px 2px rgba(60, 64, 67, 0.3), 0px 1px 3px 1px rgba(60, 64, 67, 0.15);\n",
              "      fill: #174EA6;\n",
              "    }\n",
              "\n",
              "    .colab-df-buttons div {\n",
              "      margin-bottom: 4px;\n",
              "    }\n",
              "\n",
              "    [theme=dark] .colab-df-convert {\n",
              "      background-color: #3B4455;\n",
              "      fill: #D2E3FC;\n",
              "    }\n",
              "\n",
              "    [theme=dark] .colab-df-convert:hover {\n",
              "      background-color: #434B5C;\n",
              "      box-shadow: 0px 1px 3px 1px rgba(0, 0, 0, 0.15);\n",
              "      filter: drop-shadow(0px 1px 2px rgba(0, 0, 0, 0.3));\n",
              "      fill: #FFFFFF;\n",
              "    }\n",
              "  </style>\n",
              "\n",
              "    <script>\n",
              "      const buttonEl =\n",
              "        document.querySelector('#df-1634c663-0dc1-46d0-bdf3-3acd940a3acb button.colab-df-convert');\n",
              "      buttonEl.style.display =\n",
              "        google.colab.kernel.accessAllowed ? 'block' : 'none';\n",
              "\n",
              "      async function convertToInteractive(key) {\n",
              "        const element = document.querySelector('#df-1634c663-0dc1-46d0-bdf3-3acd940a3acb');\n",
              "        const dataTable =\n",
              "          await google.colab.kernel.invokeFunction('convertToInteractive',\n",
              "                                                    [key], {});\n",
              "        if (!dataTable) return;\n",
              "\n",
              "        const docLinkHtml = 'Like what you see? Visit the ' +\n",
              "          '<a target=\"_blank\" href=https://colab.research.google.com/notebooks/data_table.ipynb>data table notebook</a>'\n",
              "          + ' to learn more about interactive tables.';\n",
              "        element.innerHTML = '';\n",
              "        dataTable['output_type'] = 'display_data';\n",
              "        await google.colab.output.renderOutput(dataTable, element);\n",
              "        const docLink = document.createElement('div');\n",
              "        docLink.innerHTML = docLinkHtml;\n",
              "        element.appendChild(docLink);\n",
              "      }\n",
              "    </script>\n",
              "  </div>\n",
              "\n",
              "\n",
              "    <div id=\"df-65ba47f2-b5d9-4d77-a775-1fddf0f7a64d\">\n",
              "      <button class=\"colab-df-quickchart\" onclick=\"quickchart('df-65ba47f2-b5d9-4d77-a775-1fddf0f7a64d')\"\n",
              "                title=\"Suggest charts\"\n",
              "                style=\"display:none;\">\n",
              "\n",
              "<svg xmlns=\"http://www.w3.org/2000/svg\" height=\"24px\"viewBox=\"0 0 24 24\"\n",
              "     width=\"24px\">\n",
              "    <g>\n",
              "        <path d=\"M19 3H5c-1.1 0-2 .9-2 2v14c0 1.1.9 2 2 2h14c1.1 0 2-.9 2-2V5c0-1.1-.9-2-2-2zM9 17H7v-7h2v7zm4 0h-2V7h2v10zm4 0h-2v-4h2v4z\"/>\n",
              "    </g>\n",
              "</svg>\n",
              "      </button>\n",
              "\n",
              "<style>\n",
              "  .colab-df-quickchart {\n",
              "      --bg-color: #E8F0FE;\n",
              "      --fill-color: #1967D2;\n",
              "      --hover-bg-color: #E2EBFA;\n",
              "      --hover-fill-color: #174EA6;\n",
              "      --disabled-fill-color: #AAA;\n",
              "      --disabled-bg-color: #DDD;\n",
              "  }\n",
              "\n",
              "  [theme=dark] .colab-df-quickchart {\n",
              "      --bg-color: #3B4455;\n",
              "      --fill-color: #D2E3FC;\n",
              "      --hover-bg-color: #434B5C;\n",
              "      --hover-fill-color: #FFFFFF;\n",
              "      --disabled-bg-color: #3B4455;\n",
              "      --disabled-fill-color: #666;\n",
              "  }\n",
              "\n",
              "  .colab-df-quickchart {\n",
              "    background-color: var(--bg-color);\n",
              "    border: none;\n",
              "    border-radius: 50%;\n",
              "    cursor: pointer;\n",
              "    display: none;\n",
              "    fill: var(--fill-color);\n",
              "    height: 32px;\n",
              "    padding: 0;\n",
              "    width: 32px;\n",
              "  }\n",
              "\n",
              "  .colab-df-quickchart:hover {\n",
              "    background-color: var(--hover-bg-color);\n",
              "    box-shadow: 0 1px 2px rgba(60, 64, 67, 0.3), 0 1px 3px 1px rgba(60, 64, 67, 0.15);\n",
              "    fill: var(--button-hover-fill-color);\n",
              "  }\n",
              "\n",
              "  .colab-df-quickchart-complete:disabled,\n",
              "  .colab-df-quickchart-complete:disabled:hover {\n",
              "    background-color: var(--disabled-bg-color);\n",
              "    fill: var(--disabled-fill-color);\n",
              "    box-shadow: none;\n",
              "  }\n",
              "\n",
              "  .colab-df-spinner {\n",
              "    border: 2px solid var(--fill-color);\n",
              "    border-color: transparent;\n",
              "    border-bottom-color: var(--fill-color);\n",
              "    animation:\n",
              "      spin 1s steps(1) infinite;\n",
              "  }\n",
              "\n",
              "  @keyframes spin {\n",
              "    0% {\n",
              "      border-color: transparent;\n",
              "      border-bottom-color: var(--fill-color);\n",
              "      border-left-color: var(--fill-color);\n",
              "    }\n",
              "    20% {\n",
              "      border-color: transparent;\n",
              "      border-left-color: var(--fill-color);\n",
              "      border-top-color: var(--fill-color);\n",
              "    }\n",
              "    30% {\n",
              "      border-color: transparent;\n",
              "      border-left-color: var(--fill-color);\n",
              "      border-top-color: var(--fill-color);\n",
              "      border-right-color: var(--fill-color);\n",
              "    }\n",
              "    40% {\n",
              "      border-color: transparent;\n",
              "      border-right-color: var(--fill-color);\n",
              "      border-top-color: var(--fill-color);\n",
              "    }\n",
              "    60% {\n",
              "      border-color: transparent;\n",
              "      border-right-color: var(--fill-color);\n",
              "    }\n",
              "    80% {\n",
              "      border-color: transparent;\n",
              "      border-right-color: var(--fill-color);\n",
              "      border-bottom-color: var(--fill-color);\n",
              "    }\n",
              "    90% {\n",
              "      border-color: transparent;\n",
              "      border-bottom-color: var(--fill-color);\n",
              "    }\n",
              "  }\n",
              "</style>\n",
              "\n",
              "      <script>\n",
              "        async function quickchart(key) {\n",
              "          const quickchartButtonEl =\n",
              "            document.querySelector('#' + key + ' button');\n",
              "          quickchartButtonEl.disabled = true;  // To prevent multiple clicks.\n",
              "          quickchartButtonEl.classList.add('colab-df-spinner');\n",
              "          try {\n",
              "            const charts = await google.colab.kernel.invokeFunction(\n",
              "                'suggestCharts', [key], {});\n",
              "          } catch (error) {\n",
              "            console.error('Error during call to suggestCharts:', error);\n",
              "          }\n",
              "          quickchartButtonEl.classList.remove('colab-df-spinner');\n",
              "          quickchartButtonEl.classList.add('colab-df-quickchart-complete');\n",
              "        }\n",
              "        (() => {\n",
              "          let quickchartButtonEl =\n",
              "            document.querySelector('#df-65ba47f2-b5d9-4d77-a775-1fddf0f7a64d button');\n",
              "          quickchartButtonEl.style.display =\n",
              "            google.colab.kernel.accessAllowed ? 'block' : 'none';\n",
              "        })();\n",
              "      </script>\n",
              "    </div>\n",
              "\n",
              "    </div>\n",
              "  </div>\n"
            ],
            "application/vnd.google.colaboratory.intrinsic+json": {
              "type": "dataframe",
              "summary": "{\n  \"name\": \"display(sweeps_df\",\n  \"rows\": 5,\n  \"fields\": [\n    {\n      \"column\": \"frequency_hz\",\n      \"properties\": {\n        \"dtype\": \"object\",\n        \"semantic_type\": \"\",\n        \"description\": \"\"\n      }\n    },\n    {\n      \"column\": \"s11_real\",\n      \"properties\": {\n        \"dtype\": \"object\",\n        \"semantic_type\": \"\",\n        \"description\": \"\"\n      }\n    },\n    {\n      \"column\": \"s11_imaginary\",\n      \"properties\": {\n        \"dtype\": \"object\",\n        \"semantic_type\": \"\",\n        \"description\": \"\"\n      }\n    },\n    {\n      \"column\": \"s21_real\",\n      \"properties\": {\n        \"dtype\": \"object\",\n        \"semantic_type\": \"\",\n        \"description\": \"\"\n      }\n    },\n    {\n      \"column\": \"s21_imaginary\",\n      \"properties\": {\n        \"dtype\": \"object\",\n        \"semantic_type\": \"\",\n        \"description\": \"\"\n      }\n    },\n    {\n      \"column\": \"circuit_type\",\n      \"properties\": {\n        \"dtype\": \"string\",\n        \"num_unique_values\": 5,\n        \"samples\": [\n          \"500MHz High Pass Filter\",\n          \"10 7MHz Ceramic Notch Filter\",\n          \"Capacitor\"\n        ],\n        \"semantic_type\": \"\",\n        \"description\": \"\"\n      }\n    }\n  ]\n}"
            }
          },
          "metadata": {}
        },
        {
          "output_type": "stream",
          "name": "stdout",
          "text": [
            "<class 'pandas.core.frame.DataFrame'>\n",
            "RangeIndex: 1800 entries, 0 to 1799\n",
            "Data columns (total 6 columns):\n",
            " #   Column         Non-Null Count  Dtype \n",
            "---  ------         --------------  ----- \n",
            " 0   frequency_hz   1800 non-null   object\n",
            " 1   s11_real       1800 non-null   object\n",
            " 2   s11_imaginary  1800 non-null   object\n",
            " 3   s21_real       1800 non-null   object\n",
            " 4   s21_imaginary  1800 non-null   object\n",
            " 5   circuit_type   1800 non-null   object\n",
            "dtypes: object(6)\n",
            "memory usage: 84.5+ KB\n"
          ]
        },
        {
          "output_type": "display_data",
          "data": {
            "text/plain": [
              "None"
            ]
          },
          "metadata": {}
        }
      ]
    },
    {
      "cell_type": "code",
      "metadata": {
        "colab": {
          "base_uri": "https://localhost:8080/"
        },
        "id": "08079dfd",
        "outputId": "7c4445de-3e95-4ee6-ac40-f0036715e491"
      },
      "source": [
        "# Check the number of data points and frequency range for a few sweeps\n",
        "print(\"Checking frequency data for a few sweeps:\")\n",
        "\n",
        "# Get the first few rows of the DataFrame\n",
        "num_sweeps_to_check = min(5, len(sweeps_df))\n",
        "\n",
        "for i in range(num_sweeps_to_check):\n",
        "    # We are now using the generated 'frequency_hz' column which contains numerical data\n",
        "    frequency_data = sweeps_df['frequency_hz'][i]\n",
        "    num_points = len(frequency_data)\n",
        "\n",
        "    print(f\"Sweep {i} ({sweeps_df['circuit_type'][i]}):\")\n",
        "    print(f\"  Number of data points: {num_points}\")\n",
        "    # Check for NaN values before calculating min/max (though shouldn't be any with generated data)\n",
        "    if not np.isnan(frequency_data).all():\n",
        "        print(f\"  Frequency Range: {np.min(frequency_data):.4f} Hz to {np.max(frequency_data):.4f} Hz\")\n",
        "    else:\n",
        "        print(f\"  Frequency Range: Contains only NaN values (unexpected with generated data)\")\n",
        "\n",
        "# Check if the number of points is consistent across all sweeps\n",
        "num_points_first_sweep = len(sweeps_df['frequency_hz'][0])\n",
        "is_consistent_points = all(len(freq) == num_points_first_sweep for freq in sweeps_df['frequency_hz'])\n",
        "print(f\"\\nNumber of data points consistent across all sweeps: {is_consistent_points}\")\n",
        "\n",
        "# Check if the frequency ranges are consistent (comparing min and max)\n",
        "# Since we generated the same frequency axis for all, they should be consistent.\n",
        "print(\"\\nChecking frequency ranges consistency (comparing min/max):\")\n",
        "for i in range(num_sweeps_to_check):\n",
        "     frequency_data = sweeps_df['frequency_hz'][i]\n",
        "     if not np.isnan(frequency_data).all():\n",
        "         print(f\"Sweep {i} ({sweeps_df['circuit_type'][i]}): Min={np.min(frequency_data):.4f}, Max={np.max(frequency_data):.4f}\")\n",
        "     else:\n",
        "         print(f\"Sweep {i} ({sweeps_df['circuit_type'][i]}): Contains only NaN values (unexpected)\")"
      ],
      "execution_count": 40,
      "outputs": [
        {
          "output_type": "stream",
          "name": "stdout",
          "text": [
            "Checking frequency data for a few sweeps:\n",
            "Sweep 0 (LC Series Circuit):\n",
            "  Number of data points: 101\n",
            "  Frequency Range: 1000000.0000 Hz to 900000000.0000 Hz\n",
            "Sweep 1 (500MHz High Pass Filter):\n",
            "  Number of data points: 101\n",
            "  Frequency Range: 1000000.0000 Hz to 900000000.0000 Hz\n",
            "Sweep 2 (Capacitor):\n",
            "  Number of data points: 101\n",
            "  Frequency Range: 1000000.0000 Hz to 900000000.0000 Hz\n",
            "Sweep 3 (Short Circuit):\n",
            "  Number of data points: 101\n",
            "  Frequency Range: 1000000.0000 Hz to 900000000.0000 Hz\n",
            "Sweep 4 (10 7MHz Ceramic Notch Filter):\n",
            "  Number of data points: 101\n",
            "  Frequency Range: 1000000.0000 Hz to 900000000.0000 Hz\n",
            "\n",
            "Number of data points consistent across all sweeps: True\n",
            "\n",
            "Checking frequency ranges consistency (comparing min/max):\n",
            "Sweep 0 (LC Series Circuit): Min=1000000.0000, Max=900000000.0000\n",
            "Sweep 1 (500MHz High Pass Filter): Min=1000000.0000, Max=900000000.0000\n",
            "Sweep 2 (Capacitor): Min=1000000.0000, Max=900000000.0000\n",
            "Sweep 3 (Short Circuit): Min=1000000.0000, Max=900000000.0000\n",
            "Sweep 4 (10 7MHz Ceramic Notch Filter): Min=1000000.0000, Max=900000000.0000\n"
          ]
        }
      ]
    },
    {
      "cell_type": "code",
      "source": [],
      "metadata": {
        "id": "0xl5E12zGEJM"
      },
      "execution_count": null,
      "outputs": []
    },
    {
      "cell_type": "markdown",
      "metadata": {
        "id": "9027ac8e"
      },
      "source": [
        "# Task\n",
        "Load the data from the CSV files in the \"data\" directory, preprocess it by handling missing S21 data, and create a single Pandas DataFrame. Then, prepare the data for both Deep Learning (DL) and traditional Machine Learning (ML) models by reshaping, flattening, encoding labels, splitting into training and testing sets, and normalizing the features. Finally, save the prepared data and the label encoder."
      ]
    },
    {
      "cell_type": "markdown",
      "metadata": {
        "id": "cf2e465d"
      },
      "source": [
        "## Reshape data for dl\n",
        "\n",
        "### Subtask:\n",
        "Transform the data in `sweeps_df` into a 3D NumPy array suitable for Deep Learning models (samples, frequency points, features).\n"
      ]
    },
    {
      "cell_type": "markdown",
      "metadata": {
        "id": "03808dd9"
      },
      "source": [
        "**Reasoning**:\n",
        "Extract the S-parameter columns and reshape them into a 3D NumPy array suitable for DL models.\n",
        "\n"
      ]
    },
    {
      "cell_type": "code",
      "metadata": {
        "colab": {
          "base_uri": "https://localhost:8080/"
        },
        "id": "2fb99cfd",
        "outputId": "d7d01836-ba31-44de-c918-e80bbda0bc3c"
      },
      "source": [
        "# 1. Extract the 's11_real', 's11_imaginary', 's21_real', and 's21_imaginary' columns.\n",
        "# These columns contain arrays for each sweep.\n",
        "s_parameter_columns = ['s11_real', 's11_imaginary', 's21_real', 's21_imaginary']\n",
        "s_parameters_data = sweeps_df[s_parameter_columns]\n",
        "\n",
        "# 2. Convert the extracted columns into a NumPy array.\n",
        "# The .values attribute will give a NumPy array where each element is the array\n",
        "# from the original DataFrame cell.\n",
        "# To handle the arrays within the DataFrame cells and stack them correctly,\n",
        "# we can use np.stack.\n",
        "# First, convert the list of arrays in each column to a list of arrays\n",
        "# that can be stacked. This requires iterating through the rows.\n",
        "# This is equivalent to transposing the list of arrays.\n",
        "\n",
        "# Get the number of sweeps and frequency points from the existing DataFrame.\n",
        "number_of_sweeps = len(sweeps_df)\n",
        "number_of_frequency_points = len(sweeps_df['frequency_hz'].iloc[0]) # Assuming all sweeps have the same number of points\n",
        "number_of_features = len(s_parameter_columns) # 4 features\n",
        "\n",
        "# Create a list of arrays, where each array is a sweep's data for all features.\n",
        "# Each element in this list will be a 2D array of shape (number_of_frequency_points, number_of_features).\n",
        "list_of_sweep_arrays = []\n",
        "for index, row in sweeps_df.iterrows():\n",
        "    sweep_features = np.stack([row[col] for col in s_parameter_columns], axis=-1)\n",
        "    list_of_sweep_arrays.append(sweep_features)\n",
        "\n",
        "# 3. Reshape the 2D NumPy array into a 3D array.\n",
        "# np.stack will stack the list of 2D sweep arrays along a new axis (axis 0),\n",
        "# resulting in a 3D array of shape (number_of_sweeps, number_of_frequency_points, number_of_features).\n",
        "reshaped_data_3d = np.stack(list_of_sweep_arrays, axis=0)\n",
        "\n",
        "# Verify the shape of the resulting array.\n",
        "expected_shape = (number_of_sweeps, number_of_frequency_points, number_of_features)\n",
        "print(f\"Shape of the reshaped_data_3d array: {reshaped_data_3d.shape}\")\n",
        "print(f\"Expected shape: {expected_shape}\")\n",
        "\n",
        "# Check if the shape matches the expected shape.\n",
        "if reshaped_data_3d.shape == expected_shape:\n",
        "    print(\"Reshaping successful.\")\n",
        "else:\n",
        "    print(\"Warning: Reshaped data shape does not match expected shape.\")\n",
        "\n",
        "# Display the first few frequency points for the first sweep to verify structure.\n",
        "print(\"\\nFirst sweep data (first 5 frequency points) in 3D array:\")\n",
        "print(reshaped_data_3d[0, :5, :])"
      ],
      "execution_count": 49,
      "outputs": [
        {
          "output_type": "stream",
          "name": "stdout",
          "text": [
            "Shape of the reshaped_data_3d array: (1800, 101, 4)\n",
            "Expected shape: (1800, 101, 4)\n",
            "Reshaping successful.\n",
            "\n",
            "First sweep data (first 5 frequency points) in 3D array:\n",
            "[[ 8.40000000e-04 -7.46000000e-04  0.00000000e+00  0.00000000e+00]\n",
            " [ 4.33333333e-05  6.89333333e-04  0.00000000e+00  0.00000000e+00]\n",
            " [-2.11000000e-04  7.49333333e-04  0.00000000e+00  0.00000000e+00]\n",
            " [-5.11333333e-04  5.09666667e-04  0.00000000e+00  0.00000000e+00]\n",
            " [-1.21666667e-04  5.31333333e-04  0.00000000e+00  0.00000000e+00]]\n"
          ]
        }
      ]
    },
    {
      "cell_type": "markdown",
      "metadata": {
        "id": "e48416f7"
      },
      "source": [
        "## Flatten data for traditional ml\n",
        "\n",
        "### Subtask:\n",
        "Create a 2D NumPy array by flattening the 3D reshaped data, suitable for traditional ML models.\n"
      ]
    },
    {
      "cell_type": "markdown",
      "metadata": {
        "id": "5805b831"
      },
      "source": [
        "**Reasoning**:\n",
        "Flatten the 3D reshaped data into a 2D array for use with traditional ML models and print its shape.\n",
        "\n"
      ]
    },
    {
      "cell_type": "code",
      "metadata": {
        "colab": {
          "base_uri": "https://localhost:8080/"
        },
        "id": "4cb2eccc",
        "outputId": "e60ac74d-9066-48d0-b70a-81b6297cf144"
      },
      "source": [
        "# Flatten the 3D reshaped data into a 2D array.\n",
        "# The reshape(-1, ...) operation with -1 automatically infers the size of that dimension.\n",
        "# In this case, -1 will be the number of samples, and the second dimension will be\n",
        "# the product of frequency points and features, effectively flattening the last two dimensions.\n",
        "flattened_data_2d = reshaped_data_3d.reshape(reshaped_data_3d.shape[0], -1)\n",
        "\n",
        "# Print the shape of the flattened_data_2d array to verify.\n",
        "print(f\"Shape of the flattened_data_2d array for traditional ML: {flattened_data_2d.shape}\")\n",
        "\n",
        "# Calculate the expected shape to compare.\n",
        "expected_flattened_shape = (number_of_sweeps, number_of_frequency_points * number_of_features)\n",
        "print(f\"Expected shape of the flattened_data_2d array: {expected_flattened_shape}\")\n",
        "\n",
        "# Check if the shape matches the expected shape.\n",
        "if flattened_data_2d.shape == expected_flattened_shape:\n",
        "    print(\"Flattening successful.\")\n",
        "else:\n",
        "    print(\"Warning: Flattened data shape does not match expected shape.\")"
      ],
      "execution_count": 50,
      "outputs": [
        {
          "output_type": "stream",
          "name": "stdout",
          "text": [
            "Shape of the flattened_data_2d array for traditional ML: (1800, 404)\n",
            "Expected shape of the flattened_data_2d array: (1800, 404)\n",
            "Flattening successful.\n"
          ]
        }
      ]
    },
    {
      "cell_type": "markdown",
      "metadata": {
        "id": "1c428030"
      },
      "source": [
        "## Encode circuit types\n",
        "\n",
        "### Subtask:\n",
        "Convert the circuit type labels from strings to numerical representations using Label Encoding.\n"
      ]
    },
    {
      "cell_type": "markdown",
      "metadata": {
        "id": "54939b24"
      },
      "source": [
        "**Reasoning**:\n",
        "Import the LabelEncoder, instantiate it, fit and transform the circuit_type column, and print the results for verification.\n",
        "\n"
      ]
    },
    {
      "cell_type": "code",
      "metadata": {
        "colab": {
          "base_uri": "https://localhost:8080/"
        },
        "id": "9290e51d",
        "outputId": "ab3bd44e-fafb-4c0d-b5a5-2115fa5f00aa"
      },
      "source": [
        "from sklearn.preprocessing import LabelEncoder\n",
        "\n",
        "# Instantiate LabelEncoder\n",
        "label_encoder = LabelEncoder()\n",
        "\n",
        "# Fit the encoder to the circuit types and transform them\n",
        "encoded_labels = label_encoder.fit_transform(sweeps_df['circuit_type'])\n",
        "\n",
        "# Print the first few encoded labels\n",
        "print(\"First few encoded labels:\")\n",
        "print(encoded_labels[:10])\n",
        "\n",
        "# Print the unique classes found by the encoder and the corresponding encoded values\n",
        "print(\"\\nUnique classes and their encoded values:\")\n",
        "for i, class_name in enumerate(label_encoder.classes_):\n",
        "    print(f\"{class_name}: {i}\")"
      ],
      "execution_count": 51,
      "outputs": [
        {
          "output_type": "stream",
          "name": "stdout",
          "text": [
            "First few encoded labels:\n",
            "[11  6  9 16  0 13  6 12 14  8]\n",
            "\n",
            "Unique classes and their encoded values:\n",
            "10 7MHz Ceramic Notch Filter: 0\n",
            "10dB Attenuation Circuit: 1\n",
            "33 Ohm Resistor: 2\n",
            "3dB Attenuation Circuit: 3\n",
            "400MHz Low Pass Filter: 4\n",
            "50 Ohm Load: 5\n",
            "500MHz High Pass Filter: 6\n",
            "6 5MHz Ceramic Notch Filter: 7\n",
            "75 Ohm Resistor: 8\n",
            "Capacitor: 9\n",
            "Inductor: 10\n",
            "LC Series Circuit: 11\n",
            "Open Circuit: 12\n",
            "RC Series Circuit: 13\n",
            "RLC Series Parallel 1: 14\n",
            "RLC Series Parallel 2: 15\n",
            "Short Circuit: 16\n",
            "Thru Circuit: 17\n"
          ]
        }
      ]
    },
    {
      "cell_type": "markdown",
      "metadata": {
        "id": "184945a9"
      },
      "source": [
        "## Split data\n",
        "\n",
        "### Subtask:\n",
        "Divide the feature data (both 3D for DL and 2D for traditional ML) and encoded labels into training and testing sets.\n"
      ]
    },
    {
      "cell_type": "markdown",
      "metadata": {
        "id": "75297f2a"
      },
      "source": [
        "**Reasoning**:\n",
        "Import the train_test_split function and split the data into training and testing sets for both 3D and 2D features, ensuring the split is consistent and reproducible. Then, print the shapes of all resulting sets.\n",
        "\n"
      ]
    },
    {
      "cell_type": "code",
      "metadata": {
        "colab": {
          "base_uri": "https://localhost:8080/"
        },
        "id": "33248561",
        "outputId": "f978511f-19b7-4b18-ebd1-8786ed550d5c"
      },
      "source": [
        "from sklearn.model_selection import train_test_split\n",
        "\n",
        "# Split the 3D data and encoded labels\n",
        "X_train_3d, X_test_3d, y_train, y_test = train_test_split(\n",
        "    reshaped_data_3d,\n",
        "    encoded_labels,\n",
        "    test_size=0.2,\n",
        "    random_state=42\n",
        ")\n",
        "\n",
        "# Split the 2D flattened data using the same split parameters\n",
        "X_train_2d, X_test_2d = train_test_split(\n",
        "    flattened_data_2d,\n",
        "    test_size=0.2,\n",
        "    random_state=42\n",
        ")\n",
        "\n",
        "# Print the shapes of the resulting training and testing sets\n",
        "print(\"Shapes of training and testing sets:\")\n",
        "print(f\"X_train_3d shape: {X_train_3d.shape}\")\n",
        "print(f\"X_test_3d shape: {X_test_3d.shape}\")\n",
        "print(f\"X_train_2d shape: {X_train_2d.shape}\")\n",
        "print(f\"X_test_2d shape: {X_test_2d.shape}\")\n",
        "print(f\"y_train shape: {y_train.shape}\")\n",
        "print(f\"y_test shape: {y_test.shape}\")"
      ],
      "execution_count": 52,
      "outputs": [
        {
          "output_type": "stream",
          "name": "stdout",
          "text": [
            "Shapes of training and testing sets:\n",
            "X_train_3d shape: (1440, 101, 4)\n",
            "X_test_3d shape: (360, 101, 4)\n",
            "X_train_2d shape: (1440, 404)\n",
            "X_test_2d shape: (360, 404)\n",
            "y_train shape: (1440,)\n",
            "y_test shape: (360,)\n"
          ]
        }
      ]
    },
    {
      "cell_type": "markdown",
      "metadata": {
        "id": "b2c56c45"
      },
      "source": [
        "## Normalize the s-parameter data\n",
        "\n",
        "### Subtask:\n",
        "Apply normalization (e.g., StandardScaler) separately to the training and testing sets of both the 3D (for DL) and 2D (for traditional ML) datasets. Fit the scaler *only* on the training data and then transform both the training and testing data using the fitted scaler.\n"
      ]
    },
    {
      "cell_type": "markdown",
      "metadata": {
        "id": "80a1622c"
      },
      "source": [
        "**Reasoning**:\n",
        "Apply StandardScaler normalization to both the 3D and 2D training and testing data, fitting only on the training data. Then, print the shapes and some sample data to verify.\n",
        "\n"
      ]
    },
    {
      "cell_type": "code",
      "metadata": {
        "colab": {
          "base_uri": "https://localhost:8080/"
        },
        "id": "228e9da6",
        "outputId": "de5b75d5-4ec2-405e-f96c-e51b1f395ba4"
      },
      "source": [
        "from sklearn.preprocessing import StandardScaler\n",
        "import numpy as np\n",
        "\n",
        "# --- Normalize 3D data (for DL) ---\n",
        "# Initialize a StandardScaler for the 3D data\n",
        "scaler_3d = StandardScaler()\n",
        "\n",
        "# Reshape X_train_3d for fitting the scaler: (samples * freq_points, features)\n",
        "# The scaler expects a 2D array where rows are samples and columns are features.\n",
        "# We treat each frequency point across all sweeps as a sample here for scaling across the feature dimension.\n",
        "X_train_3d_reshaped = X_train_3d.reshape(-1, X_train_3d.shape[-1])\n",
        "\n",
        "# Fit the scaler on the reshaped 3D training data\n",
        "scaler_3d.fit(X_train_3d_reshaped)\n",
        "\n",
        "# Transform the reshaped 3D training data\n",
        "X_train_3d_normalized_reshaped = scaler_3d.transform(X_train_3d_reshaped)\n",
        "\n",
        "# Reshape the normalized 3D training data back to its original 3D shape\n",
        "X_train_3d_normalized = X_train_3d_normalized_reshaped.reshape(X_train_3d.shape)\n",
        "\n",
        "# Reshape X_test_3d for transformation using the fitted scaler\n",
        "X_test_3d_reshaped = X_test_3d.reshape(-1, X_test_3d.shape[-1])\n",
        "\n",
        "# Transform the reshaped 3D testing data using the *same* fitted scaler\n",
        "X_test_3d_normalized_reshaped = scaler_3d.transform(X_test_3d_reshaped)\n",
        "\n",
        "# Reshape the normalized 3D testing data back to its original 3D shape\n",
        "X_test_3d_normalized = X_test_3d_normalized_reshaped.reshape(X_test_3d.shape)\n",
        "\n",
        "# --- Normalize 2D data (for traditional ML) ---\n",
        "# Initialize a separate StandardScaler for the 2D data\n",
        "scaler_2d = StandardScaler()\n",
        "\n",
        "# Fit the scaler on the 2D training data\n",
        "scaler_2d.fit(X_train_2d)\n",
        "\n",
        "# Transform the 2D training data\n",
        "X_train_2d_normalized = scaler_2d.transform(X_train_2d)\n",
        "\n",
        "# Transform the 2D testing data using the *same* fitted scaler\n",
        "X_test_2d_normalized = scaler_2d.transform(X_test_2d)\n",
        "\n",
        "# --- Verification ---\n",
        "print(\"--- Verification of Normalization ---\")\n",
        "\n",
        "# Verify shapes\n",
        "print(\"\\nShapes after normalization:\")\n",
        "print(f\"X_train_3d_normalized shape: {X_train_3d_normalized.shape}\")\n",
        "print(f\"X_test_3d_normalized shape: {X_test_3d_normalized.shape}\")\n",
        "print(f\"X_train_2d_normalized shape: {X_train_2d_normalized.shape}\")\n",
        "print(f\"X_test_2d_normalized shape: {X_test_2d_normalized.shape}\")\n",
        "\n",
        "\n",
        "# Verify normalization (mean should be close to 0, std dev close to 1 for fitted data)\n",
        "# For 3D data, check mean and std dev across the reshaped training data that was fitted.\n",
        "print(\"\\nVerification for 3D Normalized Training Data (reshaped before check):\")\n",
        "print(f\"Mean: {np.mean(X_train_3d_normalized_reshaped, axis=0)}\")\n",
        "print(f\"Standard Deviation: {np.std(X_train_3d_normalized_reshaped, axis=0)}\")\n",
        "\n",
        "# For 2D data, check mean and std dev of the normalized training data.\n",
        "print(\"\\nVerification for 2D Normalized Training Data:\")\n",
        "print(f\"Mean: {np.mean(X_train_2d_normalized, axis=0)}\")\n",
        "print(f\"Standard Deviation: {np.std(X_train_2d_normalized, axis=0)}\")\n",
        "\n",
        "# Display a small slice of the normalized data\n",
        "print(\"\\nSample slice of X_train_3d_normalized (first sweep, first 5 freq points, all features):\")\n",
        "print(X_train_3d_normalized[0, :5, :])\n",
        "\n",
        "print(\"\\nSample slice of X_train_2d_normalized (first 5 samples, first 10 features):\")\n",
        "print(X_train_2d_normalized[:5, :10])"
      ],
      "execution_count": 53,
      "outputs": [
        {
          "output_type": "stream",
          "name": "stdout",
          "text": [
            "--- Verification of Normalization ---\n",
            "\n",
            "Shapes after normalization:\n",
            "X_train_3d_normalized shape: (1440, 101, 4)\n",
            "X_test_3d_normalized shape: (360, 101, 4)\n",
            "X_train_2d_normalized shape: (1440, 404)\n",
            "X_test_2d_normalized shape: (360, 404)\n",
            "\n",
            "Verification for 3D Normalized Training Data (reshaped before check):\n",
            "Mean: [ 3.13401937e-15 -4.46452556e-16  2.92423447e-14  0.00000000e+00]\n",
            "Standard Deviation: [1. 1. 1. 0.]\n",
            "\n",
            "Verification for 2D Normalized Training Data:\n",
            "Mean: [ 5.22036118e-16 -1.95522610e-16 -6.32827124e-16  0.00000000e+00\n",
            " -2.22430099e-16 -6.64591838e-17  2.87424405e-16  0.00000000e+00\n",
            " -3.15334179e-16 -1.11446346e-16  1.71460068e-15  0.00000000e+00\n",
            " -4.24737406e-16 -2.10614705e-16  3.32450117e-16  0.00000000e+00\n",
            "  4.78745130e-16  2.53462375e-17 -7.70988212e-17  0.00000000e+00\n",
            "  5.63708031e-16  9.75685582e-17  7.78389698e-16  0.00000000e+00\n",
            " -2.99914414e-17 -1.45832420e-16  4.84180597e-16  0.00000000e+00\n",
            " -6.60389953e-16 -6.48497459e-17 -7.78081303e-16  0.00000000e+00\n",
            " -2.72659981e-16  1.09191205e-16  2.12561450e-16  0.00000000e+00\n",
            " -6.28663788e-16  5.33427469e-18  1.02479753e-15  0.00000000e+00\n",
            " -1.28408087e-16  1.72859472e-17  2.83106871e-16  0.00000000e+00\n",
            " -3.17647143e-16 -8.90009517e-18 -1.07876671e-15  0.00000000e+00\n",
            "  7.72530188e-17 -1.68171804e-17  1.17467764e-15  0.00000000e+00\n",
            " -4.26086635e-16  3.94167723e-18 -8.25265782e-16  0.00000000e+00\n",
            "  1.60404097e-16 -2.45077878e-17 -4.24583208e-16  0.00000000e+00\n",
            "  7.44774612e-17  3.13213961e-18 -6.80859690e-16  0.00000000e+00\n",
            "  7.40881122e-16  9.71541520e-17  2.15876699e-18  0.00000000e+00\n",
            " -5.04650334e-16  1.01404225e-16  3.55194269e-16  0.00000000e+00\n",
            " -2.01767615e-16 -1.27791296e-17  1.07390948e-15  0.00000000e+00\n",
            "  1.28408087e-16  9.27306071e-17  7.68906543e-16  0.00000000e+00\n",
            "  1.72046019e-16  1.77674233e-16 -2.32221649e-16  0.00000000e+00\n",
            " -3.87421576e-17 -1.68248902e-16  3.06236518e-16  0.00000000e+00\n",
            "  1.11137951e-16 -1.04064134e-16  4.57581504e-16  0.00000000e+00\n",
            " -1.99030607e-16  5.42004713e-17 -8.87484530e-16  0.00000000e+00\n",
            "  7.35137260e-17 -3.23815049e-18  3.20422701e-16  0.00000000e+00\n",
            " -2.83029772e-16 -1.20139238e-16  5.55651204e-16  0.00000000e+00\n",
            " -4.73502410e-16  4.09587487e-17  1.20829273e-15  0.00000000e+00\n",
            "  3.15950969e-16  5.37186036e-17  5.62050406e-17  0.00000000e+00\n",
            "  7.48012763e-16 -1.85981631e-16  2.87424405e-16  0.00000000e+00\n",
            "  3.99140597e-16 -9.52170441e-18 -1.06635380e-15  0.00000000e+00\n",
            " -1.55662520e-16 -1.40955920e-16  4.47404459e-16  0.00000000e+00\n",
            " -5.81864803e-16 -1.21893236e-16 -5.79783135e-16  0.00000000e+00\n",
            "  4.39656028e-16  1.99223354e-16 -3.79942991e-16  0.00000000e+00\n",
            "  5.99019291e-16  3.70074342e-17 -7.78081303e-16  0.00000000e+00\n",
            " -2.54811604e-17  1.04276156e-16  2.02615702e-16  0.00000000e+00\n",
            "  2.15683952e-16  2.64333308e-16  4.65599781e-16  0.00000000e+00\n",
            "  1.24861541e-16  7.86986217e-17 -6.42464477e-16  0.00000000e+00\n",
            " -3.82602900e-16 -2.15722502e-16 -8.60422844e-16  0.00000000e+00\n",
            " -1.09017733e-16 -6.97937079e-17 -3.64446128e-16  0.00000000e+00\n",
            "  6.25656934e-17  1.89335430e-16  1.03990890e-15  0.00000000e+00\n",
            " -3.41489954e-16 -1.87542882e-17 -3.43475248e-16  0.00000000e+00\n",
            " -1.19368250e-16  1.30393381e-17  7.19177804e-16  0.00000000e+00\n",
            "  6.12935628e-18  3.96095194e-18  9.14700414e-16  0.00000000e+00\n",
            " -4.48695864e-16 -3.73254668e-17  8.31510786e-16  0.00000000e+00\n",
            "  2.46137987e-17  4.86397188e-17 -2.54503209e-16  0.00000000e+00\n",
            " -6.76542156e-18 -9.09284222e-18 -1.09040863e-15  0.00000000e+00\n",
            "  1.02676355e-16 -5.80192723e-17  8.99666144e-16  0.00000000e+00\n",
            "  6.65941068e-17  4.13321962e-17 -2.46176536e-16  0.00000000e+00\n",
            " -1.25324134e-16  6.13417496e-17  2.93283916e-16  0.00000000e+00\n",
            "  2.76495647e-16  2.31045892e-16 -1.34830418e-15  0.00000000e+00\n",
            " -2.46272909e-16 -1.83726491e-16 -6.42310279e-16  0.00000000e+00\n",
            "  3.05696826e-17 -1.75631115e-16  6.76619254e-16  0.00000000e+00\n",
            "  8.79504802e-17 -2.00283463e-16 -2.91741939e-16  0.00000000e+00\n",
            "  9.27113324e-18  7.52754340e-16 -5.26122356e-16  0.00000000e+00\n",
            " -2.55987361e-16 -5.90576970e-17  1.29132816e-15  0.00000000e+00\n",
            " -8.21873434e-17  3.27631440e-16 -4.10782519e-16  0.00000000e+00\n",
            " -8.07610152e-18 -3.70459836e-17  6.82864259e-16  0.00000000e+00\n",
            " -2.23528757e-16 -3.19304768e-16  2.83646563e-16  0.00000000e+00\n",
            "  1.26307144e-16 -3.18610878e-16 -8.42458819e-16  0.00000000e+00\n",
            "  1.48974197e-16 -4.55654033e-17 -1.57952355e-15  0.00000000e+00\n",
            "  1.19695920e-16  5.99173489e-16 -9.02827196e-17  0.00000000e+00\n",
            "  3.24007796e-17  4.16217986e-16  8.31510786e-16  0.00000000e+00\n",
            " -2.69460380e-17  5.32367360e-16 -3.55502664e-16  0.00000000e+00\n",
            "  2.16705512e-16  3.62749954e-17  1.19040580e-16  0.00000000e+00\n",
            "  1.54775883e-16  3.72734251e-16 -1.57952355e-15  0.00000000e+00\n",
            " -8.71023932e-17 -6.43775157e-18  1.19248747e-15  0.00000000e+00\n",
            "  6.29704622e-17  7.41999055e-16  5.42467306e-16  0.00000000e+00\n",
            " -1.16033726e-17  9.22101901e-16 -1.10459481e-15  0.00000000e+00\n",
            " -2.20001486e-16 -9.23258383e-17  1.30081131e-15  0.00000000e+00\n",
            " -2.77555756e-17 -1.96987488e-16  1.30227619e-15  0.00000000e+00\n",
            "  2.55235647e-16 -3.67992673e-16  1.75014324e-17  0.00000000e+00\n",
            " -6.63589554e-16  1.20119963e-16 -6.90497042e-16  0.00000000e+00\n",
            "  4.28862193e-16 -3.55926708e-16  3.15873870e-16  0.00000000e+00\n",
            "  4.11090914e-16 -8.25728375e-17 -1.33627677e-15  0.00000000e+00\n",
            "  9.96116769e-17 -9.74143605e-17  3.07547198e-16  0.00000000e+00\n",
            "  2.86961812e-16 -1.48029737e-17 -1.20251031e-15  0.00000000e+00\n",
            " -2.70578313e-16 -8.67361738e-17  5.27355937e-17  0.00000000e+00\n",
            " -8.88409716e-16 -3.75895303e-16  1.96756192e-16  0.00000000e+00\n",
            " -4.80479853e-16 -4.32408738e-16 -1.08678498e-15  0.00000000e+00\n",
            " -2.02654251e-16  3.51686273e-16  2.02615702e-16  0.00000000e+00\n",
            "  3.50953834e-16 -3.07624296e-17  4.65599781e-16  0.00000000e+00\n",
            "  2.11019473e-16 -2.22353000e-16  1.33226763e-16  0.00000000e+00\n",
            " -1.97565729e-16 -2.09284750e-16  8.54254938e-16  0.00000000e+00\n",
            "  6.55339980e-18  1.96601994e-16  7.58729499e-16  0.00000000e+00\n",
            " -9.52401738e-16 -2.66453526e-16 -1.24668794e-16  0.00000000e+00\n",
            " -7.33171240e-16  3.50606889e-16  2.83106871e-16  0.00000000e+00\n",
            " -1.60249900e-16  5.70531277e-17 -3.64446128e-16  0.00000000e+00\n",
            "  7.70255773e-16 -4.43780815e-16  3.07547198e-16  0.00000000e+00\n",
            " -9.65662735e-17 -3.31409283e-16  7.50711222e-16  0.00000000e+00\n",
            " -4.27975556e-16 -7.41305165e-17  1.01462049e-15  0.00000000e+00\n",
            "  9.13004240e-16  4.44089210e-16  6.73843697e-16  0.00000000e+00\n",
            " -2.02500054e-16  4.15446998e-16  1.17992036e-15  0.00000000e+00\n",
            " -2.25629700e-16 -3.19497515e-16 -4.10782519e-16  0.00000000e+00\n",
            "  2.54503209e-16  6.22380234e-16  1.03520587e-15  0.00000000e+00\n",
            "  3.26359310e-16  6.42233180e-17  3.15873870e-16  0.00000000e+00\n",
            "  1.41476337e-17  3.26899002e-17 -3.64446128e-16  0.00000000e+00\n",
            "  8.22066181e-16 -3.83335339e-16  1.17992036e-15  0.00000000e+00\n",
            "  2.96367869e-16 -3.13676554e-16  4.85105783e-16  0.00000000e+00\n",
            "  1.04815847e-16  3.56196554e-17  1.29117396e-15  0.00000000e+00\n",
            " -6.44122101e-16  6.90728339e-16  2.47487216e-17  0.00000000e+00\n",
            "  4.88536680e-16  4.15909591e-16  2.83106871e-16  0.00000000e+00]\n",
            "Standard Deviation: [1. 1. 1. 0. 1. 1. 1. 0. 1. 1. 1. 0. 1. 1. 1. 0. 1. 1. 1. 0. 1. 1. 1. 0.\n",
            " 1. 1. 1. 0. 1. 1. 1. 0. 1. 1. 1. 0. 1. 1. 1. 0. 1. 1. 1. 0. 1. 1. 1. 0.\n",
            " 1. 1. 1. 0. 1. 1. 1. 0. 1. 1. 1. 0. 1. 1. 1. 0. 1. 1. 1. 0. 1. 1. 1. 0.\n",
            " 1. 1. 1. 0. 1. 1. 1. 0. 1. 1. 1. 0. 1. 1. 1. 0. 1. 1. 1. 0. 1. 1. 1. 0.\n",
            " 1. 1. 1. 0. 1. 1. 1. 0. 1. 1. 1. 0. 1. 1. 1. 0. 1. 1. 1. 0. 1. 1. 1. 0.\n",
            " 1. 1. 1. 0. 1. 1. 1. 0. 1. 1. 1. 0. 1. 1. 1. 0. 1. 1. 1. 0. 1. 1. 1. 0.\n",
            " 1. 1. 1. 0. 1. 1. 1. 0. 1. 1. 1. 0. 1. 1. 1. 0. 1. 1. 1. 0. 1. 1. 1. 0.\n",
            " 1. 1. 1. 0. 1. 1. 1. 0. 1. 1. 1. 0. 1. 1. 1. 0. 1. 1. 1. 0. 1. 1. 1. 0.\n",
            " 1. 1. 1. 0. 1. 1. 1. 0. 1. 1. 1. 0. 1. 1. 1. 0. 1. 1. 1. 0. 1. 1. 1. 0.\n",
            " 1. 1. 1. 0. 1. 1. 1. 0. 1. 1. 1. 0. 1. 1. 1. 0. 1. 1. 1. 0. 1. 1. 1. 0.\n",
            " 1. 1. 1. 0. 1. 1. 1. 0. 1. 1. 1. 0. 1. 1. 1. 0. 1. 1. 1. 0. 1. 1. 1. 0.\n",
            " 1. 1. 1. 0. 1. 1. 1. 0. 1. 1. 1. 0. 1. 1. 1. 0. 1. 1. 1. 0. 1. 1. 1. 0.\n",
            " 1. 1. 1. 0. 1. 1. 1. 0. 1. 1. 1. 0. 1. 1. 1. 0. 1. 1. 1. 0. 1. 1. 1. 0.\n",
            " 1. 1. 1. 0. 1. 1. 1. 0. 1. 1. 1. 0. 1. 1. 1. 0. 1. 1. 1. 0. 1. 1. 1. 0.\n",
            " 1. 1. 1. 0. 1. 1. 1. 0. 1. 1. 1. 0. 1. 1. 1. 0. 1. 1. 1. 0. 1. 1. 1. 0.\n",
            " 1. 1. 1. 0. 1. 1. 1. 0. 1. 1. 1. 0. 1. 1. 1. 0. 1. 1. 1. 0. 1. 1. 1. 0.\n",
            " 1. 1. 1. 0. 1. 1. 1. 0. 1. 1. 1. 0. 1. 1. 1. 0. 1. 1. 1. 0.]\n",
            "\n",
            "Sample slice of X_train_3d_normalized (first sweep, first 5 freq points, all features):\n",
            "[[-0.34202836 -0.13016343 -0.62339265  0.        ]\n",
            " [-0.34281362 -0.13464566 -0.59026813  0.        ]\n",
            " [-0.34301069 -0.13189979 -0.55714362  0.        ]\n",
            " [-0.34423309 -0.13156094 -0.5240191   0.        ]\n",
            " [-0.34514039 -0.1369491  -0.49089459  0.        ]]\n",
            "\n",
            "Sample slice of X_train_2d_normalized (first 5 samples, first 10 features):\n",
            "[[-0.49977258 -0.49797263  1.2833779   0.         -0.51433138 -0.11607101\n",
            "   1.2833779   0.         -0.48128588 -0.24037039]\n",
            " [-0.50234589 -0.50389292 -0.77919372  0.         -0.51619822 -0.11602682\n",
            "  -0.77919372  0.         -0.48217508 -0.2443088 ]\n",
            " [-0.50478781 -0.51191727 -0.77919372  0.         -0.51569186 -0.10969814\n",
            "  -0.77919372  0.         -0.48152955 -0.23252811]\n",
            " [ 2.61371594  2.05522619  1.2833779   0.          2.51977277 -0.045769\n",
            "   1.2833779   0.          2.46151042  0.97330475]\n",
            " [-0.50148562 -0.50722396 -0.77919372  0.         -0.51397884 -0.11426281\n",
            "  -0.77919372  0.         -0.47972569 -0.24714744]]\n"
          ]
        }
      ]
    },
    {
      "cell_type": "markdown",
      "metadata": {
        "id": "520689d4"
      },
      "source": [
        "## Save prepared data\n",
        "\n",
        "### Subtask:\n",
        "Save the prepared (reshaped, split, and normalized) training and testing sets (features and labels) in both 3D (for DL) and 2D (for traditional ML) formats, along with the label encoder.\n"
      ]
    },
    {
      "cell_type": "markdown",
      "metadata": {
        "id": "ef192366"
      },
      "source": [
        "**Reasoning**:\n",
        "Save the prepared training and testing sets (both 3D and 2D formats) and the label encoder to files.\n",
        "\n"
      ]
    },
    {
      "cell_type": "code",
      "metadata": {
        "colab": {
          "base_uri": "https://localhost:8080/"
        },
        "id": "c0a01a18",
        "outputId": "e723d77e-8fc8-4c54-ad54-f8365eb96a81"
      },
      "source": [
        "import joblib\n",
        "\n",
        "# Define file paths for saving the data and the label encoder\n",
        "X_train_3d_normalized_path = 'X_train_3d_normalized.npy'\n",
        "X_test_3d_normalized_path = 'X_test_3d_normalized.npy'\n",
        "X_train_2d_normalized_path = 'X_train_2d_normalized.npy'\n",
        "X_test_2d_normalized_path = 'X_test_2d_normalized.npy'\n",
        "y_train_path = 'y_train.npy'\n",
        "y_test_path = 'y_test.npy'\n",
        "label_encoder_path = 'label_encoder.pkl'\n",
        "\n",
        "# Save the NumPy arrays\n",
        "np.save(X_train_3d_normalized_path, X_train_3d_normalized)\n",
        "print(f\"Saved {X_train_3d_normalized_path}\")\n",
        "\n",
        "np.save(X_test_3d_normalized_path, X_test_3d_normalized)\n",
        "print(f\"Saved {X_test_3d_normalized_path}\")\n",
        "\n",
        "np.save(X_train_2d_normalized_path, X_train_2d_normalized)\n",
        "print(f\"Saved {X_train_2d_normalized_path}\")\n",
        "\n",
        "np.save(X_test_2d_normalized_path, X_test_2d_normalized)\n",
        "print(f\"Saved {X_test_2d_normalized_path}\")\n",
        "\n",
        "np.save(y_train_path, y_train)\n",
        "print(f\"Saved {y_train_path}\")\n",
        "\n",
        "np.save(y_test_path, y_test)\n",
        "print(f\"Saved {y_test_path}\")\n",
        "\n",
        "# Save the label encoder\n",
        "joblib.dump(label_encoder, label_encoder_path)\n",
        "print(f\"Saved {label_encoder_path}\")"
      ],
      "execution_count": 54,
      "outputs": [
        {
          "output_type": "stream",
          "name": "stdout",
          "text": [
            "Saved X_train_3d_normalized.npy\n",
            "Saved X_test_3d_normalized.npy\n",
            "Saved X_train_2d_normalized.npy\n",
            "Saved X_test_2d_normalized.npy\n",
            "Saved y_train.npy\n",
            "Saved y_test.npy\n",
            "Saved label_encoder.pkl\n"
          ]
        }
      ]
    },
    {
      "cell_type": "markdown",
      "metadata": {
        "id": "364c40c6"
      },
      "source": [
        "## Summary:\n",
        "\n",
        "### Data Analysis Key Findings\n",
        "\n",
        "*   The data was successfully reshaped into a 3D NumPy array of shape (1800, 101, 4) for Deep Learning models and flattened into a 2D NumPy array of shape (1800, 404) for traditional Machine Learning models.\n",
        "*   Circuit type labels were successfully encoded into numerical representations using Label Encoding.\n",
        "*   The data was split into training and testing sets with an 80/20 ratio, resulting in training set shapes of (1440, 101, 4) for 3D data and (1440, 404) for 2D data, and testing set shapes of (360, 101, 4) for 3D data and (360, 404) for 2D data. The label sets were shaped (1440,) for training and (360,) for testing.\n",
        "*   Standardization was applied to both the 3D and 2D training and testing sets, fitting the scaler only on the training data. Verification confirmed that the normalized training data had means close to 0 and standard deviations close to 1 (except for features with constant values).\n",
        "*   All prepared data arrays (`X_train_3d_normalized`, `X_test_3d_normalized`, `X_train_2d_normalized`, `X_test_2d_normalized`, `y_train`, `y_test`) and the `label_encoder` were successfully saved to disk as .npy and .pkl files, respectively.\n",
        "\n",
        "### Insights or Next Steps\n",
        "\n",
        "*   The prepared 3D and 2D datasets are now ready for training and evaluating Deep Learning and traditional Machine Learning models, respectively, for circuit type classification.\n",
        "*   The saved label encoder is crucial for converting model predictions (numerical) back into human-readable circuit types.\n"
      ]
    },
    {
      "cell_type": "markdown",
      "metadata": {
        "id": "4e8dc082"
      },
      "source": [
        "# Summary of Data Preparation for RF Circuit Classification\n",
        "\n",
        "We have successfully completed the following steps to prepare the NanoVNA sweep data for Machine Learning and Deep Learning models:\n",
        "\n",
        "1.  **Data Loading and Initial Preprocessing:** Loaded individual sweep CSV files, extracted S11 and S21 (real and imaginary) data, and handled missing S21 data by imputing with 0.0. We also generated and used a correct frequency axis (1 MHz to 900 MHz) for all sweeps, replacing the inconsistent frequency data from the CSVs.\n",
        "2.  **Data Combining:** Combined the data from all individual sweeps into a single pandas DataFrame (`sweeps_df`), where each row represents a single sweep (treating each repeat as a separate sample).\n",
        "3.  **Data Reshaping:** Reshaped the S-parameter data into a 3D NumPy array (`reshaped_data_3d`) of shape (number of sweeps, number of frequency points, number of features) for Deep Learning models. We also flattened this into a 2D NumPy array (`flattened_data_2d`) for traditional Machine Learning models.\n",
        "4.  **Label Encoding:** Converted the circuit type labels from strings to numerical representations using `LabelEncoder`.\n",
        "5.  **Data Splitting:** Divided the feature data (both 3D and 2D) and the encoded labels into training and testing sets (`X_train_3d`, `X_test_3d`, `X_train_2d`, `X_test_2d`, `y_train`, `y_test`). **Importantly, this splitting was done before normalization to prevent data leakage.**\n",
        "6.  **Data Normalization:** Applied `StandardScaler` normalization to the S-parameter features in both the 3D and 2D training and testing sets, fitting the scaler only on the training data.\n",
        "7.  **Data Saving:** Saved the prepared training and testing sets (`X_train_3d_normalized.npy`, `X_test_3d_normalized.npy`, `X_train_2d_normalized.npy`, `X_test_2d_normalized.npy`, `y_train.npy`, `y_test.npy`) and the `label_encoder.joblib` file.\n",
        "\n",
        "The data is now standardized, normalized, and split, making it ready for training Machine Learning and Deep Learning models."
      ]
    },
    {
      "cell_type": "code",
      "source": [],
      "metadata": {
        "id": "KmMlbkUxNTsL"
      },
      "execution_count": null,
      "outputs": []
    },
    {
      "cell_type": "markdown",
      "metadata": {
        "id": "a9a78465"
      },
      "source": [
        "## Deep Learning Model Training\n",
        "\n",
        "For Deep Learning, given the sequential nature of the S-parameter data across frequency, **1D Convolutional Neural Networks (CNNs)** or **Recurrent Neural Networks (RNNs), such as LSTMs**, are generally recommended.\n",
        "\n",
        "*   **1D CNNs** are good at capturing local patterns and features across the frequency spectrum.\n",
        "*   **RNNs (LSTMs)** are effective at modeling temporal dependencies, which can be relevant if there are sequential relationships between frequency points.\n",
        "\n",
        "A 1D CNN is often a good starting point for this type of data due to its ability to automatically learn relevant features across the frequency axis.\n",
        "\n",
        "Let's start by setting up the code for training a Deep Learning model. We can begin with a 1D CNN as a recommended approach."
      ]
    },
    {
      "cell_type": "code",
      "metadata": {
        "colab": {
          "base_uri": "https://localhost:8080/"
        },
        "id": "083dbe7f",
        "outputId": "b6ae9d06-cef1-4d2b-d9bd-8fc3e859b29c"
      },
      "source": [
        "import os\n",
        "\n",
        "print(os.listdir())"
      ],
      "execution_count": 57,
      "outputs": [
        {
          "output_type": "stream",
          "name": "stdout",
          "text": [
            "['.config', 'X_train_3d_normalized.npy', 'label_encoder.pkl', 'sweeps', 'sweeps.zip', 'standardized_sweep_data.pkl', 'X_test_3d_normalized.npy', 'X_train_2d_normalized.npy', 'y_test.npy', 'y_train.npy', 'X_test_2d_normalized.npy', 'sample_data']\n"
          ]
        }
      ]
    },
    {
      "cell_type": "code",
      "metadata": {
        "colab": {
          "base_uri": "https://localhost:8080/"
        },
        "id": "9f9ae942",
        "outputId": "1c532111-cd8d-40ed-b94c-d990fd5a6b8a"
      },
      "source": [
        "# Start of Deep Learning Model Training\n",
        "\n",
        "# Load the prepared data\n",
        "import numpy as np\n",
        "import joblib\n",
        "\n",
        "X_train_3d_normalized = np.load('X_train_3d_normalized.npy')\n",
        "X_test_3d_normalized = np.load('X_test_3d_normalized.npy')\n",
        "y_train = np.load('y_train.npy')\n",
        "y_test = np.load('y_test.npy')\n",
        "# Corrected filename extension from .joblib to .pkl\n",
        "label_encoder = joblib.load('label_encoder.pkl')\n",
        "\n",
        "print(\"Prepared data for DL loaded successfully.\")\n",
        "print(\"X_train_3d_normalized shape:\", X_train_3d_normalized.shape)\n",
        "print(\"y_train shape:\", y_train.shape)\n",
        "print(\"Number of classes:\", len(label_encoder.classes_))\n",
        "\n",
        "# Recommended: Define a 1D CNN model architecture here\n",
        "# import tensorflow as tf\n",
        "# from tensorflow.keras.models import Sequential\n",
        "# from tensorflow.keras.layers import Conv1D, MaxPooling1D, Flatten, Dense, Dropout\n",
        "# from tensorflow.keras.optimizers import Adam\n",
        "\n",
        "# # Define the 1D CNN model\n",
        "# model = Sequential([\n",
        "#     Conv1D(filters=32, kernel_size=5, activation='relu', input_shape=(X_train_3d_normalized.shape[1], X_train_3d_normalized.shape[2])),\n",
        "#     MaxPooling1D(pool_size=2),\n",
        "#     Conv1D(filters=64, kernel_size=5, activation='relu'),\n",
        "#     MaxPooling1D(pool_size=2),\n",
        "#     Flatten(),\n",
        "#     Dense(100, activation='relu'),\n",
        "#     Dropout(0.5),\n",
        "#     Dense(len(label_encoder.classes_), activation='softmax') # Output layer with number of classes\n",
        "# ])\n",
        "\n",
        "# # Compile the model\n",
        "# model.compile(optimizer=Adam(),\n",
        "#               loss='sparse_categorical_crossentropy', # Use sparse_categorical_crossentropy for integer labels\n",
        "#               metrics=['accuracy'])\n",
        "\n",
        "# # Model summary\n",
        "# model.summary()\n",
        "\n",
        "# # Train the model (example)\n",
        "# # epochs = 50\n",
        "# # history = model.fit(X_train_3d_normalized, y_train, epochs=epochs, validation_split=0.2, verbose=1)\n",
        "\n",
        "# # Evaluate the model (example)\n",
        "# # loss, accuracy = model.evaluate(X_test_3d_normalized, y_test, verbose=0)\n",
        "# # print(f\"\\nModel evaluation on test data: Loss={loss:.4f}, Accuracy={accuracy:.4f}\")\n",
        "\n",
        "# # Further steps would involve training, evaluation, and potentially hyperparameter tuning."
      ],
      "execution_count": 58,
      "outputs": [
        {
          "output_type": "stream",
          "name": "stdout",
          "text": [
            "Prepared data for DL loaded successfully.\n",
            "X_train_3d_normalized shape: (1440, 101, 4)\n",
            "y_train shape: (1440,)\n",
            "Number of classes: 18\n"
          ]
        }
      ]
    },
    {
      "cell_type": "code",
      "metadata": {
        "colab": {
          "base_uri": "https://localhost:8080/",
          "height": 453
        },
        "id": "71cc26a4",
        "outputId": "b20b2775-8dd9-4cb4-fb8a-c1e4edd972be"
      },
      "source": [
        "import tensorflow as tf\n",
        "from tensorflow.keras.models import Sequential\n",
        "from tensorflow.keras.layers import Conv1D, MaxPooling1D, Flatten, Dense, Dropout\n",
        "\n",
        "# Define the 1D CNN model architecture\n",
        "# Input shape: (number of time steps, number of features)\n",
        "# X_train_3d_normalized.shape[1] is the number of frequency points (time steps)\n",
        "# X_train_3d_normalized.shape[2] is the number of features (S11_real, S11_imaginary, S21_real, S21_imaginary)\n",
        "model = Sequential([\n",
        "    Conv1D(filters=32, kernel_size=5, activation='relu', input_shape=(X_train_3d_normalized.shape[1], X_train_3d_normalized.shape[2])),\n",
        "    MaxPooling1D(pool_size=2),\n",
        "    Conv1D(filters=64, kernel_size=5, activation='relu'),\n",
        "    MaxPooling1D(pool_size=2),\n",
        "    Flatten(),\n",
        "    Dense(100, activation='relu'),\n",
        "    Dropout(0.5),\n",
        "    Dense(len(label_encoder.classes_), activation='softmax') # Output layer with number of classes\n",
        "])\n",
        "\n",
        "print(\"1D CNN model architecture defined.\")\n",
        "model.summary()"
      ],
      "execution_count": 59,
      "outputs": [
        {
          "output_type": "stream",
          "name": "stdout",
          "text": [
            "1D CNN model architecture defined.\n"
          ]
        },
        {
          "output_type": "stream",
          "name": "stderr",
          "text": [
            "/usr/local/lib/python3.12/dist-packages/keras/src/layers/convolutional/base_conv.py:113: UserWarning: Do not pass an `input_shape`/`input_dim` argument to a layer. When using Sequential models, prefer using an `Input(shape)` object as the first layer in the model instead.\n",
            "  super().__init__(activity_regularizer=activity_regularizer, **kwargs)\n"
          ]
        },
        {
          "output_type": "display_data",
          "data": {
            "text/plain": [
              "\u001b[1mModel: \"sequential\"\u001b[0m\n"
            ],
            "text/html": [
              "<pre style=\"white-space:pre;overflow-x:auto;line-height:normal;font-family:Menlo,'DejaVu Sans Mono',consolas,'Courier New',monospace\"><span style=\"font-weight: bold\">Model: \"sequential\"</span>\n",
              "</pre>\n"
            ]
          },
          "metadata": {}
        },
        {
          "output_type": "display_data",
          "data": {
            "text/plain": [
              "┏━━━━━━━━━━━━━━━━━━━━━━━━━━━━━━━━━┳━━━━━━━━━━━━━━━━━━━━━━━━┳━━━━━━━━━━━━━━━┓\n",
              "┃\u001b[1m \u001b[0m\u001b[1mLayer (type)                   \u001b[0m\u001b[1m \u001b[0m┃\u001b[1m \u001b[0m\u001b[1mOutput Shape          \u001b[0m\u001b[1m \u001b[0m┃\u001b[1m \u001b[0m\u001b[1m      Param #\u001b[0m\u001b[1m \u001b[0m┃\n",
              "┡━━━━━━━━━━━━━━━━━━━━━━━━━━━━━━━━━╇━━━━━━━━━━━━━━━━━━━━━━━━╇━━━━━━━━━━━━━━━┩\n",
              "│ conv1d (\u001b[38;5;33mConv1D\u001b[0m)                 │ (\u001b[38;5;45mNone\u001b[0m, \u001b[38;5;34m97\u001b[0m, \u001b[38;5;34m32\u001b[0m)         │           \u001b[38;5;34m672\u001b[0m │\n",
              "├─────────────────────────────────┼────────────────────────┼───────────────┤\n",
              "│ max_pooling1d (\u001b[38;5;33mMaxPooling1D\u001b[0m)    │ (\u001b[38;5;45mNone\u001b[0m, \u001b[38;5;34m48\u001b[0m, \u001b[38;5;34m32\u001b[0m)         │             \u001b[38;5;34m0\u001b[0m │\n",
              "├─────────────────────────────────┼────────────────────────┼───────────────┤\n",
              "│ conv1d_1 (\u001b[38;5;33mConv1D\u001b[0m)               │ (\u001b[38;5;45mNone\u001b[0m, \u001b[38;5;34m44\u001b[0m, \u001b[38;5;34m64\u001b[0m)         │        \u001b[38;5;34m10,304\u001b[0m │\n",
              "├─────────────────────────────────┼────────────────────────┼───────────────┤\n",
              "│ max_pooling1d_1 (\u001b[38;5;33mMaxPooling1D\u001b[0m)  │ (\u001b[38;5;45mNone\u001b[0m, \u001b[38;5;34m22\u001b[0m, \u001b[38;5;34m64\u001b[0m)         │             \u001b[38;5;34m0\u001b[0m │\n",
              "├─────────────────────────────────┼────────────────────────┼───────────────┤\n",
              "│ flatten (\u001b[38;5;33mFlatten\u001b[0m)               │ (\u001b[38;5;45mNone\u001b[0m, \u001b[38;5;34m1408\u001b[0m)           │             \u001b[38;5;34m0\u001b[0m │\n",
              "├─────────────────────────────────┼────────────────────────┼───────────────┤\n",
              "│ dense (\u001b[38;5;33mDense\u001b[0m)                   │ (\u001b[38;5;45mNone\u001b[0m, \u001b[38;5;34m100\u001b[0m)            │       \u001b[38;5;34m140,900\u001b[0m │\n",
              "├─────────────────────────────────┼────────────────────────┼───────────────┤\n",
              "│ dropout (\u001b[38;5;33mDropout\u001b[0m)               │ (\u001b[38;5;45mNone\u001b[0m, \u001b[38;5;34m100\u001b[0m)            │             \u001b[38;5;34m0\u001b[0m │\n",
              "├─────────────────────────────────┼────────────────────────┼───────────────┤\n",
              "│ dense_1 (\u001b[38;5;33mDense\u001b[0m)                 │ (\u001b[38;5;45mNone\u001b[0m, \u001b[38;5;34m18\u001b[0m)             │         \u001b[38;5;34m1,818\u001b[0m │\n",
              "└─────────────────────────────────┴────────────────────────┴───────────────┘\n"
            ],
            "text/html": [
              "<pre style=\"white-space:pre;overflow-x:auto;line-height:normal;font-family:Menlo,'DejaVu Sans Mono',consolas,'Courier New',monospace\">┏━━━━━━━━━━━━━━━━━━━━━━━━━━━━━━━━━┳━━━━━━━━━━━━━━━━━━━━━━━━┳━━━━━━━━━━━━━━━┓\n",
              "┃<span style=\"font-weight: bold\"> Layer (type)                    </span>┃<span style=\"font-weight: bold\"> Output Shape           </span>┃<span style=\"font-weight: bold\">       Param # </span>┃\n",
              "┡━━━━━━━━━━━━━━━━━━━━━━━━━━━━━━━━━╇━━━━━━━━━━━━━━━━━━━━━━━━╇━━━━━━━━━━━━━━━┩\n",
              "│ conv1d (<span style=\"color: #0087ff; text-decoration-color: #0087ff\">Conv1D</span>)                 │ (<span style=\"color: #00d7ff; text-decoration-color: #00d7ff\">None</span>, <span style=\"color: #00af00; text-decoration-color: #00af00\">97</span>, <span style=\"color: #00af00; text-decoration-color: #00af00\">32</span>)         │           <span style=\"color: #00af00; text-decoration-color: #00af00\">672</span> │\n",
              "├─────────────────────────────────┼────────────────────────┼───────────────┤\n",
              "│ max_pooling1d (<span style=\"color: #0087ff; text-decoration-color: #0087ff\">MaxPooling1D</span>)    │ (<span style=\"color: #00d7ff; text-decoration-color: #00d7ff\">None</span>, <span style=\"color: #00af00; text-decoration-color: #00af00\">48</span>, <span style=\"color: #00af00; text-decoration-color: #00af00\">32</span>)         │             <span style=\"color: #00af00; text-decoration-color: #00af00\">0</span> │\n",
              "├─────────────────────────────────┼────────────────────────┼───────────────┤\n",
              "│ conv1d_1 (<span style=\"color: #0087ff; text-decoration-color: #0087ff\">Conv1D</span>)               │ (<span style=\"color: #00d7ff; text-decoration-color: #00d7ff\">None</span>, <span style=\"color: #00af00; text-decoration-color: #00af00\">44</span>, <span style=\"color: #00af00; text-decoration-color: #00af00\">64</span>)         │        <span style=\"color: #00af00; text-decoration-color: #00af00\">10,304</span> │\n",
              "├─────────────────────────────────┼────────────────────────┼───────────────┤\n",
              "│ max_pooling1d_1 (<span style=\"color: #0087ff; text-decoration-color: #0087ff\">MaxPooling1D</span>)  │ (<span style=\"color: #00d7ff; text-decoration-color: #00d7ff\">None</span>, <span style=\"color: #00af00; text-decoration-color: #00af00\">22</span>, <span style=\"color: #00af00; text-decoration-color: #00af00\">64</span>)         │             <span style=\"color: #00af00; text-decoration-color: #00af00\">0</span> │\n",
              "├─────────────────────────────────┼────────────────────────┼───────────────┤\n",
              "│ flatten (<span style=\"color: #0087ff; text-decoration-color: #0087ff\">Flatten</span>)               │ (<span style=\"color: #00d7ff; text-decoration-color: #00d7ff\">None</span>, <span style=\"color: #00af00; text-decoration-color: #00af00\">1408</span>)           │             <span style=\"color: #00af00; text-decoration-color: #00af00\">0</span> │\n",
              "├─────────────────────────────────┼────────────────────────┼───────────────┤\n",
              "│ dense (<span style=\"color: #0087ff; text-decoration-color: #0087ff\">Dense</span>)                   │ (<span style=\"color: #00d7ff; text-decoration-color: #00d7ff\">None</span>, <span style=\"color: #00af00; text-decoration-color: #00af00\">100</span>)            │       <span style=\"color: #00af00; text-decoration-color: #00af00\">140,900</span> │\n",
              "├─────────────────────────────────┼────────────────────────┼───────────────┤\n",
              "│ dropout (<span style=\"color: #0087ff; text-decoration-color: #0087ff\">Dropout</span>)               │ (<span style=\"color: #00d7ff; text-decoration-color: #00d7ff\">None</span>, <span style=\"color: #00af00; text-decoration-color: #00af00\">100</span>)            │             <span style=\"color: #00af00; text-decoration-color: #00af00\">0</span> │\n",
              "├─────────────────────────────────┼────────────────────────┼───────────────┤\n",
              "│ dense_1 (<span style=\"color: #0087ff; text-decoration-color: #0087ff\">Dense</span>)                 │ (<span style=\"color: #00d7ff; text-decoration-color: #00d7ff\">None</span>, <span style=\"color: #00af00; text-decoration-color: #00af00\">18</span>)             │         <span style=\"color: #00af00; text-decoration-color: #00af00\">1,818</span> │\n",
              "└─────────────────────────────────┴────────────────────────┴───────────────┘\n",
              "</pre>\n"
            ]
          },
          "metadata": {}
        },
        {
          "output_type": "display_data",
          "data": {
            "text/plain": [
              "\u001b[1m Total params: \u001b[0m\u001b[38;5;34m153,694\u001b[0m (600.37 KB)\n"
            ],
            "text/html": [
              "<pre style=\"white-space:pre;overflow-x:auto;line-height:normal;font-family:Menlo,'DejaVu Sans Mono',consolas,'Courier New',monospace\"><span style=\"font-weight: bold\"> Total params: </span><span style=\"color: #00af00; text-decoration-color: #00af00\">153,694</span> (600.37 KB)\n",
              "</pre>\n"
            ]
          },
          "metadata": {}
        },
        {
          "output_type": "display_data",
          "data": {
            "text/plain": [
              "\u001b[1m Trainable params: \u001b[0m\u001b[38;5;34m153,694\u001b[0m (600.37 KB)\n"
            ],
            "text/html": [
              "<pre style=\"white-space:pre;overflow-x:auto;line-height:normal;font-family:Menlo,'DejaVu Sans Mono',consolas,'Courier New',monospace\"><span style=\"font-weight: bold\"> Trainable params: </span><span style=\"color: #00af00; text-decoration-color: #00af00\">153,694</span> (600.37 KB)\n",
              "</pre>\n"
            ]
          },
          "metadata": {}
        },
        {
          "output_type": "display_data",
          "data": {
            "text/plain": [
              "\u001b[1m Non-trainable params: \u001b[0m\u001b[38;5;34m0\u001b[0m (0.00 B)\n"
            ],
            "text/html": [
              "<pre style=\"white-space:pre;overflow-x:auto;line-height:normal;font-family:Menlo,'DejaVu Sans Mono',consolas,'Courier New',monospace\"><span style=\"font-weight: bold\"> Non-trainable params: </span><span style=\"color: #00af00; text-decoration-color: #00af00\">0</span> (0.00 B)\n",
              "</pre>\n"
            ]
          },
          "metadata": {}
        }
      ]
    },
    {
      "cell_type": "code",
      "metadata": {
        "colab": {
          "base_uri": "https://localhost:8080/"
        },
        "id": "4346f981",
        "outputId": "b23fcd90-0259-46b9-ae43-3f51a7a91d19"
      },
      "source": [
        "# Compile the model\n",
        "model.compile(optimizer='adam',\n",
        "              loss='sparse_categorical_crossentropy', # Use sparse_categorical_crossentropy for integer labels\n",
        "              metrics=['accuracy'])\n",
        "\n",
        "print(\"\\nModel compiled successfully.\")"
      ],
      "execution_count": 60,
      "outputs": [
        {
          "output_type": "stream",
          "name": "stdout",
          "text": [
            "\n",
            "Model compiled successfully.\n"
          ]
        }
      ]
    },
    {
      "cell_type": "code",
      "metadata": {
        "colab": {
          "base_uri": "https://localhost:8080/"
        },
        "id": "bdb49edc",
        "outputId": "907bb1ae-81e7-4dce-91f8-9dd5ba749199"
      },
      "source": [
        "# Train the model\n",
        "epochs = 50 # You can adjust the number of epochs\n",
        "history = model.fit(X_train_3d_normalized, y_train, epochs=epochs, validation_split=0.2, verbose=1)\n",
        "\n",
        "print(\"\\nModel training complete.\")"
      ],
      "execution_count": 61,
      "outputs": [
        {
          "output_type": "stream",
          "name": "stdout",
          "text": [
            "Epoch 1/50\n",
            "\u001b[1m36/36\u001b[0m \u001b[32m━━━━━━━━━━━━━━━━━━━━\u001b[0m\u001b[37m\u001b[0m \u001b[1m3s\u001b[0m 31ms/step - accuracy: 0.2175 - loss: 2.4105 - val_accuracy: 0.4028 - val_loss: 1.6640\n",
            "Epoch 2/50\n",
            "\u001b[1m36/36\u001b[0m \u001b[32m━━━━━━━━━━━━━━━━━━━━\u001b[0m\u001b[37m\u001b[0m \u001b[1m1s\u001b[0m 22ms/step - accuracy: 0.3536 - loss: 1.8323 - val_accuracy: 0.3993 - val_loss: 1.5527\n",
            "Epoch 3/50\n",
            "\u001b[1m36/36\u001b[0m \u001b[32m━━━━━━━━━━━━━━━━━━━━\u001b[0m\u001b[37m\u001b[0m \u001b[1m1s\u001b[0m 22ms/step - accuracy: 0.3805 - loss: 1.7132 - val_accuracy: 0.4757 - val_loss: 1.5255\n",
            "Epoch 4/50\n",
            "\u001b[1m36/36\u001b[0m \u001b[32m━━━━━━━━━━━━━━━━━━━━\u001b[0m\u001b[37m\u001b[0m \u001b[1m0s\u001b[0m 13ms/step - accuracy: 0.3909 - loss: 1.6915 - val_accuracy: 0.4514 - val_loss: 1.4960\n",
            "Epoch 5/50\n",
            "\u001b[1m36/36\u001b[0m \u001b[32m━━━━━━━━━━━━━━━━━━━━\u001b[0m\u001b[37m\u001b[0m \u001b[1m1s\u001b[0m 13ms/step - accuracy: 0.4092 - loss: 1.6485 - val_accuracy: 0.4514 - val_loss: 1.5012\n",
            "Epoch 6/50\n",
            "\u001b[1m36/36\u001b[0m \u001b[32m━━━━━━━━━━━━━━━━━━━━\u001b[0m\u001b[37m\u001b[0m \u001b[1m0s\u001b[0m 13ms/step - accuracy: 0.4099 - loss: 1.5933 - val_accuracy: 0.4410 - val_loss: 1.4686\n",
            "Epoch 7/50\n",
            "\u001b[1m36/36\u001b[0m \u001b[32m━━━━━━━━━━━━━━━━━━━━\u001b[0m\u001b[37m\u001b[0m \u001b[1m1s\u001b[0m 13ms/step - accuracy: 0.4232 - loss: 1.5797 - val_accuracy: 0.4514 - val_loss: 1.4483\n",
            "Epoch 8/50\n",
            "\u001b[1m36/36\u001b[0m \u001b[32m━━━━━━━━━━━━━━━━━━━━\u001b[0m\u001b[37m\u001b[0m \u001b[1m0s\u001b[0m 13ms/step - accuracy: 0.4320 - loss: 1.5744 - val_accuracy: 0.4618 - val_loss: 1.4342\n",
            "Epoch 9/50\n",
            "\u001b[1m36/36\u001b[0m \u001b[32m━━━━━━━━━━━━━━━━━━━━\u001b[0m\u001b[37m\u001b[0m \u001b[1m1s\u001b[0m 14ms/step - accuracy: 0.4177 - loss: 1.5967 - val_accuracy: 0.4618 - val_loss: 1.4297\n",
            "Epoch 10/50\n",
            "\u001b[1m36/36\u001b[0m \u001b[32m━━━━━━━━━━━━━━━━━━━━\u001b[0m\u001b[37m\u001b[0m \u001b[1m0s\u001b[0m 13ms/step - accuracy: 0.4095 - loss: 1.5987 - val_accuracy: 0.4514 - val_loss: 1.4326\n",
            "Epoch 11/50\n",
            "\u001b[1m36/36\u001b[0m \u001b[32m━━━━━━━━━━━━━━━━━━━━\u001b[0m\u001b[37m\u001b[0m \u001b[1m0s\u001b[0m 13ms/step - accuracy: 0.4273 - loss: 1.5587 - val_accuracy: 0.4618 - val_loss: 1.4317\n",
            "Epoch 12/50\n",
            "\u001b[1m36/36\u001b[0m \u001b[32m━━━━━━━━━━━━━━━━━━━━\u001b[0m\u001b[37m\u001b[0m \u001b[1m0s\u001b[0m 13ms/step - accuracy: 0.4027 - loss: 1.5952 - val_accuracy: 0.4514 - val_loss: 1.4323\n",
            "Epoch 13/50\n",
            "\u001b[1m36/36\u001b[0m \u001b[32m━━━━━━━━━━━━━━━━━━━━\u001b[0m\u001b[37m\u001b[0m \u001b[1m1s\u001b[0m 14ms/step - accuracy: 0.3860 - loss: 1.6464 - val_accuracy: 0.4618 - val_loss: 1.4356\n",
            "Epoch 14/50\n",
            "\u001b[1m36/36\u001b[0m \u001b[32m━━━━━━━━━━━━━━━━━━━━\u001b[0m\u001b[37m\u001b[0m \u001b[1m0s\u001b[0m 13ms/step - accuracy: 0.4063 - loss: 1.5975 - val_accuracy: 0.4618 - val_loss: 1.4232\n",
            "Epoch 15/50\n",
            "\u001b[1m36/36\u001b[0m \u001b[32m━━━━━━━━━━━━━━━━━━━━\u001b[0m\u001b[37m\u001b[0m \u001b[1m1s\u001b[0m 13ms/step - accuracy: 0.4006 - loss: 1.5918 - val_accuracy: 0.4618 - val_loss: 1.4231\n",
            "Epoch 16/50\n",
            "\u001b[1m36/36\u001b[0m \u001b[32m━━━━━━━━━━━━━━━━━━━━\u001b[0m\u001b[37m\u001b[0m \u001b[1m1s\u001b[0m 14ms/step - accuracy: 0.4286 - loss: 1.5295 - val_accuracy: 0.4514 - val_loss: 1.4270\n",
            "Epoch 17/50\n",
            "\u001b[1m36/36\u001b[0m \u001b[32m━━━━━━━━━━━━━━━━━━━━\u001b[0m\u001b[37m\u001b[0m \u001b[1m1s\u001b[0m 13ms/step - accuracy: 0.4389 - loss: 1.4952 - val_accuracy: 0.4514 - val_loss: 1.4269\n",
            "Epoch 18/50\n",
            "\u001b[1m36/36\u001b[0m \u001b[32m━━━━━━━━━━━━━━━━━━━━\u001b[0m\u001b[37m\u001b[0m \u001b[1m0s\u001b[0m 13ms/step - accuracy: 0.4328 - loss: 1.5196 - val_accuracy: 0.4618 - val_loss: 1.4224\n",
            "Epoch 19/50\n",
            "\u001b[1m36/36\u001b[0m \u001b[32m━━━━━━━━━━━━━━━━━━━━\u001b[0m\u001b[37m\u001b[0m \u001b[1m1s\u001b[0m 13ms/step - accuracy: 0.4471 - loss: 1.4964 - val_accuracy: 0.4514 - val_loss: 1.4244\n",
            "Epoch 20/50\n",
            "\u001b[1m36/36\u001b[0m \u001b[32m━━━━━━━━━━━━━━━━━━━━\u001b[0m\u001b[37m\u001b[0m \u001b[1m1s\u001b[0m 13ms/step - accuracy: 0.4330 - loss: 1.5128 - val_accuracy: 0.4618 - val_loss: 1.4223\n",
            "Epoch 21/50\n",
            "\u001b[1m36/36\u001b[0m \u001b[32m━━━━━━━━━━━━━━━━━━━━\u001b[0m\u001b[37m\u001b[0m \u001b[1m1s\u001b[0m 13ms/step - accuracy: 0.4403 - loss: 1.5019 - val_accuracy: 0.4618 - val_loss: 1.4199\n",
            "Epoch 22/50\n",
            "\u001b[1m36/36\u001b[0m \u001b[32m━━━━━━━━━━━━━━━━━━━━\u001b[0m\u001b[37m\u001b[0m \u001b[1m0s\u001b[0m 13ms/step - accuracy: 0.4092 - loss: 1.5673 - val_accuracy: 0.4618 - val_loss: 1.4207\n",
            "Epoch 23/50\n",
            "\u001b[1m36/36\u001b[0m \u001b[32m━━━━━━━━━━━━━━━━━━━━\u001b[0m\u001b[37m\u001b[0m \u001b[1m1s\u001b[0m 24ms/step - accuracy: 0.4381 - loss: 1.5791 - val_accuracy: 0.4514 - val_loss: 1.4225\n",
            "Epoch 24/50\n",
            "\u001b[1m36/36\u001b[0m \u001b[32m━━━━━━━━━━━━━━━━━━━━\u001b[0m\u001b[37m\u001b[0m \u001b[1m1s\u001b[0m 24ms/step - accuracy: 0.4103 - loss: 1.5640 - val_accuracy: 0.4514 - val_loss: 1.4234\n",
            "Epoch 25/50\n",
            "\u001b[1m36/36\u001b[0m \u001b[32m━━━━━━━━━━━━━━━━━━━━\u001b[0m\u001b[37m\u001b[0m \u001b[1m1s\u001b[0m 24ms/step - accuracy: 0.4151 - loss: 1.5526 - val_accuracy: 0.4618 - val_loss: 1.4211\n",
            "Epoch 26/50\n",
            "\u001b[1m36/36\u001b[0m \u001b[32m━━━━━━━━━━━━━━━━━━━━\u001b[0m\u001b[37m\u001b[0m \u001b[1m1s\u001b[0m 14ms/step - accuracy: 0.4103 - loss: 1.5220 - val_accuracy: 0.4618 - val_loss: 1.4170\n",
            "Epoch 27/50\n",
            "\u001b[1m36/36\u001b[0m \u001b[32m━━━━━━━━━━━━━━━━━━━━\u001b[0m\u001b[37m\u001b[0m \u001b[1m0s\u001b[0m 13ms/step - accuracy: 0.4242 - loss: 1.5209 - val_accuracy: 0.4618 - val_loss: 1.4210\n",
            "Epoch 28/50\n",
            "\u001b[1m36/36\u001b[0m \u001b[32m━━━━━━━━━━━━━━━━━━━━\u001b[0m\u001b[37m\u001b[0m \u001b[1m0s\u001b[0m 13ms/step - accuracy: 0.4300 - loss: 1.5110 - val_accuracy: 0.4618 - val_loss: 1.4201\n",
            "Epoch 29/50\n",
            "\u001b[1m36/36\u001b[0m \u001b[32m━━━━━━━━━━━━━━━━━━━━\u001b[0m\u001b[37m\u001b[0m \u001b[1m1s\u001b[0m 13ms/step - accuracy: 0.4120 - loss: 1.5268 - val_accuracy: 0.4618 - val_loss: 1.4190\n",
            "Epoch 30/50\n",
            "\u001b[1m36/36\u001b[0m \u001b[32m━━━━━━━━━━━━━━━━━━━━\u001b[0m\u001b[37m\u001b[0m \u001b[1m1s\u001b[0m 14ms/step - accuracy: 0.4193 - loss: 1.5345 - val_accuracy: 0.4618 - val_loss: 1.4207\n",
            "Epoch 31/50\n",
            "\u001b[1m36/36\u001b[0m \u001b[32m━━━━━━━━━━━━━━━━━━━━\u001b[0m\u001b[37m\u001b[0m \u001b[1m0s\u001b[0m 13ms/step - accuracy: 0.4170 - loss: 1.5375 - val_accuracy: 0.4618 - val_loss: 1.4200\n",
            "Epoch 32/50\n",
            "\u001b[1m36/36\u001b[0m \u001b[32m━━━━━━━━━━━━━━━━━━━━\u001b[0m\u001b[37m\u001b[0m \u001b[1m1s\u001b[0m 13ms/step - accuracy: 0.4289 - loss: 1.5168 - val_accuracy: 0.4618 - val_loss: 1.4192\n",
            "Epoch 33/50\n",
            "\u001b[1m36/36\u001b[0m \u001b[32m━━━━━━━━━━━━━━━━━━━━\u001b[0m\u001b[37m\u001b[0m \u001b[1m0s\u001b[0m 13ms/step - accuracy: 0.4105 - loss: 1.5461 - val_accuracy: 0.4514 - val_loss: 1.4197\n",
            "Epoch 34/50\n",
            "\u001b[1m36/36\u001b[0m \u001b[32m━━━━━━━━━━━━━━━━━━━━\u001b[0m\u001b[37m\u001b[0m \u001b[1m1s\u001b[0m 13ms/step - accuracy: 0.4374 - loss: 1.4731 - val_accuracy: 0.4514 - val_loss: 1.4192\n",
            "Epoch 35/50\n",
            "\u001b[1m36/36\u001b[0m \u001b[32m━━━━━━━━━━━━━━━━━━━━\u001b[0m\u001b[37m\u001b[0m \u001b[1m0s\u001b[0m 13ms/step - accuracy: 0.4445 - loss: 1.5081 - val_accuracy: 0.4618 - val_loss: 1.4179\n",
            "Epoch 36/50\n",
            "\u001b[1m36/36\u001b[0m \u001b[32m━━━━━━━━━━━━━━━━━━━━\u001b[0m\u001b[37m\u001b[0m \u001b[1m1s\u001b[0m 13ms/step - accuracy: 0.4433 - loss: 1.4862 - val_accuracy: 0.4514 - val_loss: 1.4230\n",
            "Epoch 37/50\n",
            "\u001b[1m36/36\u001b[0m \u001b[32m━━━━━━━━━━━━━━━━━━━━\u001b[0m\u001b[37m\u001b[0m \u001b[1m0s\u001b[0m 13ms/step - accuracy: 0.4407 - loss: 1.5062 - val_accuracy: 0.4618 - val_loss: 1.4173\n",
            "Epoch 38/50\n",
            "\u001b[1m36/36\u001b[0m \u001b[32m━━━━━━━━━━━━━━━━━━━━\u001b[0m\u001b[37m\u001b[0m \u001b[1m1s\u001b[0m 13ms/step - accuracy: 0.4129 - loss: 1.5486 - val_accuracy: 0.4514 - val_loss: 1.4200\n",
            "Epoch 39/50\n",
            "\u001b[1m36/36\u001b[0m \u001b[32m━━━━━━━━━━━━━━━━━━━━\u001b[0m\u001b[37m\u001b[0m \u001b[1m0s\u001b[0m 13ms/step - accuracy: 0.4524 - loss: 1.5171 - val_accuracy: 0.4618 - val_loss: 1.4181\n",
            "Epoch 40/50\n",
            "\u001b[1m36/36\u001b[0m \u001b[32m━━━━━━━━━━━━━━━━━━━━\u001b[0m\u001b[37m\u001b[0m \u001b[1m0s\u001b[0m 13ms/step - accuracy: 0.4310 - loss: 1.5380 - val_accuracy: 0.4514 - val_loss: 1.4200\n",
            "Epoch 41/50\n",
            "\u001b[1m36/36\u001b[0m \u001b[32m━━━━━━━━━━━━━━━━━━━━\u001b[0m\u001b[37m\u001b[0m \u001b[1m0s\u001b[0m 13ms/step - accuracy: 0.4110 - loss: 1.5663 - val_accuracy: 0.4514 - val_loss: 1.4174\n",
            "Epoch 42/50\n",
            "\u001b[1m36/36\u001b[0m \u001b[32m━━━━━━━━━━━━━━━━━━━━\u001b[0m\u001b[37m\u001b[0m \u001b[1m1s\u001b[0m 13ms/step - accuracy: 0.4135 - loss: 1.5301 - val_accuracy: 0.4618 - val_loss: 1.4179\n",
            "Epoch 43/50\n",
            "\u001b[1m36/36\u001b[0m \u001b[32m━━━━━━━━━━━━━━━━━━━━\u001b[0m\u001b[37m\u001b[0m \u001b[1m0s\u001b[0m 13ms/step - accuracy: 0.4262 - loss: 1.5282 - val_accuracy: 0.4514 - val_loss: 1.4197\n",
            "Epoch 44/50\n",
            "\u001b[1m36/36\u001b[0m \u001b[32m━━━━━━━━━━━━━━━━━━━━\u001b[0m\u001b[37m\u001b[0m \u001b[1m1s\u001b[0m 18ms/step - accuracy: 0.4086 - loss: 1.5547 - val_accuracy: 0.4514 - val_loss: 1.4207\n",
            "Epoch 45/50\n",
            "\u001b[1m36/36\u001b[0m \u001b[32m━━━━━━━━━━━━━━━━━━━━\u001b[0m\u001b[37m\u001b[0m \u001b[1m1s\u001b[0m 23ms/step - accuracy: 0.4336 - loss: 1.4809 - val_accuracy: 0.4514 - val_loss: 1.4186\n",
            "Epoch 46/50\n",
            "\u001b[1m36/36\u001b[0m \u001b[32m━━━━━━━━━━━━━━━━━━━━\u001b[0m\u001b[37m\u001b[0m \u001b[1m1s\u001b[0m 23ms/step - accuracy: 0.4613 - loss: 1.4491 - val_accuracy: 0.4618 - val_loss: 1.4191\n",
            "Epoch 47/50\n",
            "\u001b[1m36/36\u001b[0m \u001b[32m━━━━━━━━━━━━━━━━━━━━\u001b[0m\u001b[37m\u001b[0m \u001b[1m1s\u001b[0m 25ms/step - accuracy: 0.4122 - loss: 1.5624 - val_accuracy: 0.4618 - val_loss: 1.4185\n",
            "Epoch 48/50\n",
            "\u001b[1m36/36\u001b[0m \u001b[32m━━━━━━━━━━━━━━━━━━━━\u001b[0m\u001b[37m\u001b[0m \u001b[1m1s\u001b[0m 17ms/step - accuracy: 0.4265 - loss: 1.5196 - val_accuracy: 0.4618 - val_loss: 1.4192\n",
            "Epoch 49/50\n",
            "\u001b[1m36/36\u001b[0m \u001b[32m━━━━━━━━━━━━━━━━━━━━\u001b[0m\u001b[37m\u001b[0m \u001b[1m1s\u001b[0m 14ms/step - accuracy: 0.4259 - loss: 1.5363 - val_accuracy: 0.4514 - val_loss: 1.4195\n",
            "Epoch 50/50\n",
            "\u001b[1m36/36\u001b[0m \u001b[32m━━━━━━━━━━━━━━━━━━━━\u001b[0m\u001b[37m\u001b[0m \u001b[1m0s\u001b[0m 13ms/step - accuracy: 0.4276 - loss: 1.4883 - val_accuracy: 0.4618 - val_loss: 1.4198\n",
            "\n",
            "Model training complete.\n"
          ]
        }
      ]
    },
    {
      "cell_type": "code",
      "metadata": {
        "colab": {
          "base_uri": "https://localhost:8080/"
        },
        "id": "38317bc6",
        "outputId": "e7dcc404-d445-4a35-acf7-343e5cb43714"
      },
      "source": [
        "# Evaluate the model on the test data\n",
        "loss, accuracy = model.evaluate(X_test_3d_normalized, y_test, verbose=0)\n",
        "\n",
        "print(f\"\\nModel evaluation on test data:\")\n",
        "print(f\"Loss: {loss:.4f}\")\n",
        "print(f\"Accuracy: {accuracy:.4f}\")\n",
        "\n",
        "# You can also make predictions and evaluate other metrics like precision, recall, and F1-score\n",
        "# from sklearn.metrics import classification_report\n",
        "# y_pred = np.argmax(model.predict(X_test_3d_normalized), axis=-1)\n",
        "# print(\"\\nClassification Report:\")\n",
        "# print(classification_report(y_test, y_pred, target_names=label_encoder.classes_))"
      ],
      "execution_count": 62,
      "outputs": [
        {
          "output_type": "stream",
          "name": "stdout",
          "text": [
            "\n",
            "Model evaluation on test data:\n",
            "Loss: 1.3621\n",
            "Accuracy: 0.4694\n"
          ]
        }
      ]
    },
    {
      "cell_type": "code",
      "metadata": {
        "colab": {
          "base_uri": "https://localhost:8080/"
        },
        "id": "719773dc",
        "outputId": "20eb5a92-3ff8-4b09-9518-52f1b29a64c4"
      },
      "source": [
        "# Save the trained model\n",
        "model.save('circuit_classifier_model.h5')\n",
        "\n",
        "print(\"\\nModel saved successfully as 'circuit_classifier_model.h5'\")"
      ],
      "execution_count": 63,
      "outputs": [
        {
          "output_type": "stream",
          "name": "stderr",
          "text": [
            "WARNING:absl:You are saving your model as an HDF5 file via `model.save()` or `keras.saving.save_model(model)`. This file format is considered legacy. We recommend using instead the native Keras format, e.g. `model.save('my_model.keras')` or `keras.saving.save_model(model, 'my_model.keras')`. \n"
          ]
        },
        {
          "output_type": "stream",
          "name": "stdout",
          "text": [
            "\n",
            "Model saved successfully as 'circuit_classifier_model.h5'\n"
          ]
        }
      ]
    },
    {
      "cell_type": "markdown",
      "metadata": {
        "id": "202aee60"
      },
      "source": [
        "# Task\n",
        "Train a Random Forest classifier on the prepared 2D S-parameter data (`X_train_2d_normalized.npy`, `X_test_2d_normalized.npy`, `y_train.npy`, and `y_test.npy`), evaluate its performance on the test set, and display a confusion matrix."
      ]
    },
    {
      "cell_type": "markdown",
      "metadata": {
        "id": "885e401b"
      },
      "source": [
        "## Load the prepared 2d data\n",
        "\n",
        "### Subtask:\n",
        "Load the saved 2D NumPy arrays for the training and testing data (features and labels).\n"
      ]
    },
    {
      "cell_type": "markdown",
      "metadata": {
        "id": "a481f654"
      },
      "source": [
        "**Reasoning**:\n",
        "Load the prepared 2D NumPy arrays for training and testing sets and print their shapes to verify.\n",
        "\n"
      ]
    },
    {
      "cell_type": "code",
      "metadata": {
        "colab": {
          "base_uri": "https://localhost:8080/"
        },
        "id": "63e8a257",
        "outputId": "b22b5a91-804f-4d08-8b35-adc392c62181"
      },
      "source": [
        "import numpy as np\n",
        "\n",
        "# Define file paths for loading the data\n",
        "X_train_2d_normalized_path = 'X_train_2d_normalized.npy'\n",
        "X_test_2d_normalized_path = 'X_test_2d_normalized.npy'\n",
        "y_train_path = 'y_train.npy'\n",
        "y_test_path = 'y_test.npy'\n",
        "\n",
        "# Load the NumPy arrays\n",
        "X_train_2d_normalized = np.load(X_train_2d_normalized_path)\n",
        "X_test_2d_normalized = np.load(X_test_2d_normalized_path)\n",
        "y_train = np.load(y_train_path)\n",
        "y_test = np.load(y_test_path)\n",
        "\n",
        "print(\"Prepared 2D data loaded successfully.\")\n",
        "print(\"X_train_2d_normalized shape:\", X_train_2d_normalized.shape)\n",
        "print(\"X_test_2d_normalized shape:\", X_test_2d_normalized.shape)\n",
        "print(\"y_train shape:\", y_train.shape)\n",
        "print(\"y_test shape:\", y_test.shape)"
      ],
      "execution_count": 64,
      "outputs": [
        {
          "output_type": "stream",
          "name": "stdout",
          "text": [
            "Prepared 2D data loaded successfully.\n",
            "X_train_2d_normalized shape: (1440, 404)\n",
            "X_test_2d_normalized shape: (360, 404)\n",
            "y_train shape: (1440,)\n",
            "y_test shape: (360,)\n"
          ]
        }
      ]
    },
    {
      "cell_type": "markdown",
      "metadata": {
        "id": "7df50c2d"
      },
      "source": [
        "**Reasoning**:\n",
        "Train a Random Forest classifier on the loaded training data and evaluate its performance on the test data.\n",
        "\n"
      ]
    },
    {
      "cell_type": "code",
      "metadata": {
        "colab": {
          "base_uri": "https://localhost:8080/",
          "height": 1000
        },
        "id": "3246e02d",
        "outputId": "f82a919a-767a-43f5-ddd2-3ff87bd3b437"
      },
      "source": [
        "from sklearn.ensemble import RandomForestClassifier\n",
        "from sklearn.metrics import accuracy_score, classification_report, confusion_matrix\n",
        "import matplotlib.pyplot as plt\n",
        "import seaborn as sns\n",
        "import joblib\n",
        "\n",
        "# Load the label encoder for later use in the classification report\n",
        "label_encoder_path = 'label_encoder.pkl'\n",
        "label_encoder = joblib.load(label_encoder_path)\n",
        "target_names = label_encoder.classes_\n",
        "\n",
        "# Initialize the Random Forest Classifier\n",
        "# You can tune hyperparameters like n_estimators, max_depth, etc.\n",
        "rf_classifier = RandomForestClassifier(n_estimators=100, random_state=42, n_jobs=-1)\n",
        "\n",
        "# Train the classifier\n",
        "print(\"\\nTraining Random Forest classifier...\")\n",
        "rf_classifier.fit(X_train_2d_normalized, y_train)\n",
        "print(\"Training complete.\")\n",
        "\n",
        "# Make predictions on the test set\n",
        "y_pred = rf_classifier.predict(X_test_2d_normalized)\n",
        "\n",
        "# Evaluate the classifier\n",
        "print(\"\\nEvaluating Random Forest classifier on the test set...\")\n",
        "accuracy = accuracy_score(y_test, y_pred)\n",
        "print(f\"Accuracy: {accuracy:.4f}\")\n",
        "\n",
        "# Display classification report\n",
        "print(\"\\nClassification Report:\")\n",
        "print(classification_report(y_test, y_pred, target_names=target_names))\n",
        "\n",
        "# Display confusion matrix\n",
        "conf_matrix = confusion_matrix(y_test, y_pred)\n",
        "\n",
        "plt.figure(figsize=(12, 10))\n",
        "sns.heatmap(conf_matrix, annot=True, fmt='d', cmap='Blues', xticklabels=target_names, yticklabels=target_names)\n",
        "plt.xlabel('Predicted Label')\n",
        "plt.ylabel('True Label')\n",
        "plt.title('Confusion Matrix')\n",
        "plt.show()"
      ],
      "execution_count": 65,
      "outputs": [
        {
          "output_type": "stream",
          "name": "stdout",
          "text": [
            "\n",
            "Training Random Forest classifier...\n",
            "Training complete.\n",
            "\n",
            "Evaluating Random Forest classifier on the test set...\n",
            "Accuracy: 0.8639\n",
            "\n",
            "Classification Report:\n",
            "                              precision    recall  f1-score   support\n",
            "\n",
            "10 7MHz Ceramic Notch Filter       1.00      1.00      1.00        19\n",
            "    10dB Attenuation Circuit       1.00      1.00      1.00        24\n",
            "             33 Ohm Resistor       0.64      0.80      0.71        20\n",
            "     3dB Attenuation Circuit       1.00      1.00      1.00        19\n",
            "      400MHz Low Pass Filter       1.00      1.00      1.00        26\n",
            "                 50 Ohm Load       0.69      0.44      0.54        25\n",
            "     500MHz High Pass Filter       1.00      1.00      1.00        18\n",
            " 6 5MHz Ceramic Notch Filter       1.00      1.00      1.00        21\n",
            "             75 Ohm Resistor       0.65      0.87      0.74        15\n",
            "                   Capacitor       1.00      1.00      1.00        21\n",
            "                    Inductor       0.87      0.81      0.84        16\n",
            "           LC Series Circuit       1.00      1.00      1.00        17\n",
            "                Open Circuit       0.79      0.85      0.81        13\n",
            "           RC Series Circuit       0.56      0.39      0.46        23\n",
            "       RLC Series Parallel 1       0.65      0.65      0.65        20\n",
            "       RLC Series Parallel 2       0.59      0.81      0.68        16\n",
            "               Short Circuit       1.00      1.00      1.00        18\n",
            "                Thru Circuit       1.00      1.00      1.00        29\n",
            "\n",
            "                    accuracy                           0.86       360\n",
            "                   macro avg       0.86      0.87      0.86       360\n",
            "                weighted avg       0.86      0.86      0.86       360\n",
            "\n"
          ]
        },
        {
          "output_type": "display_data",
          "data": {
            "text/plain": [
              "<Figure size 1200x1000 with 2 Axes>"
            ],
            "image/png": "[encoded data removed]"
          },
          "metadata": {}
        }
      ]
    },
    {
      "cell_type": "markdown",
      "metadata": {
        "id": "58e44b6f"
      },
      "source": [
        "## Summary:\n",
        "\n",
        "### Data Analysis Key Findings\n",
        "* The shapes of the loaded data were confirmed: `X_train_2d_normalized` (1440, 404), `X_test_2d_normalized` (360, 404), `y_train` (1440,), and `y_test` (360,).\n",
        "* A Random Forest classifier was trained on the 2D S-parameter data.\n",
        "* The Random Forest classifier achieved an accuracy of 86.39% on the test set.\n",
        "* The classification report indicated varying performance across different component types.\n",
        "* The confusion matrix provided a visual breakdown of the model's predictions versus the true labels, showing which classes were most frequently confused.\n",
        "\n",
        "### Insights or Next Steps\n",
        "* Investigate the classes with lower precision and recall in the classification report to understand potential reasons for misclassification and explore strategies to improve performance for these specific component types.\n",
        "* Experiment with hyperparameter tuning for the Random Forest classifier or explore other classification algorithms to potentially improve overall model accuracy and reduce misclassifications observed in the confusion matrix.\n"
      ]
    },
    {
      "cell_type": "markdown",
      "metadata": {
        "id": "3b9e0889"
      },
      "source": [
        "# Comprehensive Project Summary: RF Circuit Classification\n",
        "\n",
        "This document summarizes the key steps and findings from our work on classifying RF circuits using NanoVNA sweep data.\n",
        "\n",
        "## 1. Data Acquisition and Initial Loading\n",
        "\n",
        "*   We started with NanoVNA sweep data stored in individual CSV files for 18 different RF circuits.\n",
        "*   These files were loaded into a pandas DataFrame (`sweeps_df`), treating each sweep as a separate sample (we identified 1800 individual sweeps).\n",
        "*   During loading, we extracted S11 (real and imaginary) and S21 (real and imaginary) data.\n",
        "*   A significant finding was that the frequency data in the original CSVs was not in the expected MHz range and appeared scaled or distorted. We corrected this by **generating a consistent linear frequency axis from 1 MHz to 900 MHz** with 101 points for all sweeps, replacing the original frequency data.\n",
        "*   We also addressed missing S21 data for one-port circuits by **imputing NaN values with 0.0**, as zero transmission/reflection is physically meaningful for an absent port.\n",
        "\n",
        "## 2. Data Preparation for ML and DL\n",
        "\n",
        "To prepare the data for model training, we performed the following steps:\n",
        "\n",
        "*   **Reshaping for Deep Learning:** The S-parameter data was reshaped into a 3D NumPy array (1800 samples, 101 frequency points, 4 features) suitable for sequence models like CNNs or LSTMs.\n",
        "*   **Flattening for Traditional ML:** The 3D data was also flattened into a 2D NumPy array (1800 samples, 404 features) where each frequency point's features contribute to a single feature vector, suitable for models like Random Forest or SVM.\n",
        "*   **Label Encoding:** The circuit type labels were converted from strings to numerical representations using `LabelEncoder`.\n",
        "*   **Data Splitting:** The reshaped (3D and 2D) feature data and encoded labels were split into training and testing sets (80% train, 20% test). Crucially, this splitting was done *before* normalization to prevent data leakage.\n",
        "*   **Normalization:** `StandardScaler` normalization was applied separately to the training and testing sets of both the 3D and 2D data to scale the S-parameter features.\n",
        "*   **Data Saving:** The prepared and split datasets, along with the label encoder, were saved to `.npy` and `.pkl` files for future use.\n",
        "\n",
        "## 3. Model Training and Evaluation\n",
        "\n",
        "We explored training both a Deep Learning model and a traditional Machine Learning model:\n",
        "\n",
        "*   **Deep Learning Model (1D CNN):**\n",
        "    *   We defined and trained a 1D Convolutional Neural Network.\n",
        "    *   The model achieved an accuracy of **0.4694** on the test data. This indicated some learning but suggested limitations, likely due to the dataset size.\n",
        "\n",
        "*   **Traditional Machine Learning Model (Random Forest):**\n",
        "    *   We trained a Random Forest classifier on the 2D flattened data.\n",
        "    *   This model achieved a significantly better accuracy of **0.8639** on the test data.\n",
        "    *   The **Classification Report** provided detailed metrics (precision, recall, F1-score) for each circuit type, highlighting varying performance across classes.\n",
        "    *   The **Confusion Matrix** (shown in the previous output) visually represented the model's predictions versus the true labels, clearly showing which circuits were frequently confused.\n",
        "\n",
        "## 4. Key Insights and Next Steps\n",
        "\n",
        "*   The Random Forest model performed substantially better than the initial 1D CNN on this dataset. This suggests that for the current data size and characteristics, a traditional ML approach might be more effective.\n",
        "*   The performance analysis, particularly the confusion matrix and classification report, revealed that while overall accuracy is good, the model struggles to differentiate certain circuit types.\n",
        "*   The most significant factor limiting performance is likely the dataset size (18 unique circuits, even with multiple repeats treated as samples).\n",
        "\n",
        "**Recommended Next Steps:**\n",
        "\n",
        "*   **Increase Dataset Size:** The most impactful step to improve performance is to acquire more data. This could involve collecting a larger number of sweeps (e.g., 50 or more) for each circuit type and utilizing each individual sweep as a separate training sample.\n",
        "*   **Focus on Confused Classes:** Analyze the S-parameter data for the circuit types that were most frequently misclassified in the confusion matrix. This might reveal subtle differences that require further feature engineering or a more specialized model.\n",
        "*   **Hyperparameter Tuning:** Optimize the hyperparameters of the Random Forest classifier or other promising models.\n",
        "*   **Explore Other Models:** Investigate other traditional ML algorithms or revisit Deep Learning models (perhaps with a simpler architecture or transfer learning if a larger dataset becomes available).\n",
        "\n",
        "This summary covers the journey from raw data to initial model evaluations and provides clear recommendations for improving classification performance."
      ]
    },
    {
      "cell_type": "code",
      "metadata": {
        "colab": {
          "base_uri": "https://localhost:8080/",
          "height": 1000
        },
        "id": "ca367995",
        "outputId": "3453edcc-4f96-4d98-98b8-cf69ec2f1351"
      },
      "source": [
        "import matplotlib.pyplot as plt\n",
        "import seaborn as sns\n",
        "from sklearn.metrics import confusion_matrix\n",
        "import joblib\n",
        "import numpy as np\n",
        "\n",
        "# Load the trained Random Forest classifier\n",
        "# Assuming the model object is still in memory as rf_classifier, otherwise load it:\n",
        "# rf_classifier = joblib.load('random_forest_model.pkl') # Uncomment and modify path if needed\n",
        "\n",
        "# Load the test data and label encoder\n",
        "X_test_2d_normalized = np.load('X_test_2d_normalized.npy')\n",
        "y_test = np.load('y_test.npy')\n",
        "label_encoder = joblib.load('label_encoder.pkl')\n",
        "target_names = label_encoder.classes_\n",
        "\n",
        "# Make predictions on the test set using the trained classifier\n",
        "y_pred = rf_classifier.predict(X_test_2d_normalized)\n",
        "\n",
        "# Generate and display the confusion matrix\n",
        "conf_matrix = confusion_matrix(y_test, y_pred)\n",
        "\n",
        "plt.figure(figsize=(12, 10))\n",
        "sns.heatmap(conf_matrix, annot=True, fmt='d', cmap='Blues', xticklabels=target_names, yticklabels=target_names)\n",
        "plt.xlabel('Predicted Label')\n",
        "plt.ylabel('True Label')\n",
        "plt.title('Confusion Matrix for Random Forest Classifier')\n",
        "plt.show()"
      ],
      "execution_count": 66,
      "outputs": [
        {
          "output_type": "display_data",
          "data": {
            "text/plain": [
              "<Figure size 1200x1000 with 2 Axes>"
            ],
            "image/png": "[encoded data removed]"
          },
          "metadata": {}
        }
      ]
    }
  ]
}